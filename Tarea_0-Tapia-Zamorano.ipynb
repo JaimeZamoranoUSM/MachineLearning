{
 "cells": [
  {
   "cell_type": "markdown",
   "metadata": {},
   "source": [
    "<img src=\"http://www.exalumnos.usm.cl/wp-content/uploads/2015/06/Isotipo-Negro.gif\" title=\"Title text\" width=\"20%\" height=\"20%\" />\n",
    "\n",
    "\n",
    "<hr style=\"height:2px;border:none\"/>\n",
    "<h1 align='center'> INF-393 Máquinas de Aprendizaje II-2018 </h1>\n",
    "\n",
    "<H3 align='center'> Tarea 0 - Introducción a Máquinas de Aprendizaje </H3>\n",
    "<hr style=\"height:2px;border:none\"/>\n",
    "\n",
    "\n",
    "# Tarea  0 Machine-Learning- Introducción a Máquinas de aprendizaje\n",
    "\n",
    "Daniel Tapia - 201573532-8\n",
    "\n",
    "Jaime Zamorano - 201573520-4\n",
    "\n",
    "5 de Octubre de 2018\n",
    "\n",
    "<hr style=\"height:2px;border:none\"/>\n",
    "\n",
    "En esta tarea se trabajó con modelos lineales de aprendizaje y se aprendió acerca de ellos. La tarea se divide en las  secciones:\n",
    " \n",
    "[2.](#segundo) Job Salary Prediction  \n",
    "[3.](#tercero) Linear Regression by hand"
   ]
  },
  {
   "cell_type": "markdown",
   "metadata": {},
   "source": [
    "<a id=\"segundo\"></a>\n",
    "## 2. Job Salary Prediction\n",
    "\n",
    "En esta sección se trabajará con el problema de predecir el salario que ofrece un anuncio en internet a través unicamente del texto del anuncio. El dataset es ofrecido por *Adzuna* como una competencia en la plataforma más grande de *data science* Kaggle, a través del siguiente __[link](https://www.kaggle.com/c/job-salary-prediction)__. El objetivo de la competencia, según *Adzuna*, es el de tener un motor que pueda predecir el salario de cualquier anuncio de trabajo en Reunio Unido, para poder mejorar la experiencia de los usuarios que buscan trabajos, ya que así pueden filtrar sin que el mismo empleador señale explícitamente cuánto paga.\n",
    "\n",
    "<img src=\"http://s5047.pcdn.co/wp-content/uploads/2013/05/salary-prediction-engine-v2.png\" title=\"Title text\" width=\"50%\"/>\n",
    "\n",
    "La métrica de evaluación de la competencia es MAE (*mean absolute error*):\n",
    "\n",
    "$$\n",
    "L = \\frac{1}{N} \\sum_i^N  \\mid y_i - \\hat{y}_i \\mid\n",
    "$$\n",
    "\n",
    "\n",
    "Para descargar los datos a utilizar (*Train_rev1*) debe estar registrado en la plataforma de Kaggle. Se cuenta con cientos de miles registros con textos sin procesar, es decir, no están estructurados.\n",
    "\n",
    "\n",
    "> a) Carge los datos *csv* de entrenamiento y cree un conjunto de validación con los últimos 10 mil datos en un dataframe de *pandas*. Describa los datos, apóyese de gráficos ¿Cuántos datos hay en cada conjunto?  \n",
    "```python\n",
    "import pandas as pd\n",
    "df = pd.read_csv(\"Train_rev1.csv\")\n",
    "df_train = df.iloc[:-10000]\n",
    "df_val = df.iloc[-10000:]\n",
    "...#load other sets\n",
    "df.head()\n",
    "```\n",
    "*Recuerde que si no puede trabajar con todos los datos, debido a su volumen, puede muestrear*.\n",
    "\n",
    "\n",
    "> b) Extraiga los datos de cada conjunto con los que trabajará, el *input* $X$, los textos, y el *output* $y$, los salarios.\n",
    "```python\n",
    "text = df.FullDescription\n",
    "salary = df.SalaryNormalized\n",
    "```\n",
    "\n",
    "> c) Realice un pre-procesamiento a los datos brutos de texto para extraer características y generar la representación de los datos de entrada al modelo $\\vec{x}$. Comente sobre lo realizado.\n",
    "\n",
    "> d) Intente resolver el problema enfrentándolo como regresión con el modelo de regresión lineal ordinaria en *sklearn*. ¿Qué es lo que hace *fit_intercept=True*? Evalúe la función objetivo (F.O.) utilizada y la métrica de la competencia (*mean absolute error*) en ambos conjuntos generados en el punto a). Comente lo observado.\n",
    "```python\n",
    "from sklearn.linear_model import LinearRegression as LR\n",
    "model = LR(fit_intercept=True, normalize=False)\n",
    "model.fit(X_train,y_train)\n",
    "... #measure F.O.\n",
    "from sklearn.metrics import mean_absolute_error #measure MAE\n",
    "print(\"MAE on train: \",mean_absolute_error(y_train, model.predict(X_train)))\n",
    "print(\"MAE on validation: \",mean_absolute_error(y_val, model.predict(X_val)))\n",
    "```\n",
    "\n",
    "> e) Intente mejorar sus resultados en base a la métrica de la competencia (MAE) sobre el conjunto de validación. Comente sobre lo realizado.  \n",
    "*No se le pide que imite los resultados ganadores de la competencia (MAE de 3400), sino que mejore lo ya alcanzado siendo creativo.*\n",
    "<div class=\"alert alert-warning\"> HINT: Una opción es cambiar el *approach* de resolución desde regresión a casificación o trabajo sobre los datos (tal como limpiarlos).</div>\n"
   ]
  },
  {
   "cell_type": "markdown",
   "metadata": {},
   "source": [
    "## A)"
   ]
  },
  {
   "cell_type": "code",
   "execution_count": 57,
   "metadata": {},
   "outputs": [
    {
     "name": "stdout",
     "output_type": "stream",
     "text": [
      "CPU times: user 4.84 s, sys: 344 ms, total: 5.18 s\n",
      "Wall time: 5.19 s\n"
     ]
    }
   ],
   "source": [
    "%%time\n",
    "import pandas as pd\n",
    "df = pd.read_csv(\"Train_rev1.csv\") #se descarga el dataSet en cuestión\n",
    "df_val = df.iloc[-10000:] #se toman los ultimos 10000 datos como datos de validación\n",
    "df_train=df.iloc[:2400] #se toman los primeros 2400 datos como datos de entrenamiento\n",
    "\n"
   ]
  },
  {
   "cell_type": "code",
   "execution_count": 5,
   "metadata": {},
   "outputs": [
    {
     "data": {
      "text/html": [
       "<div>\n",
       "<style scoped>\n",
       "    .dataframe tbody tr th:only-of-type {\n",
       "        vertical-align: middle;\n",
       "    }\n",
       "\n",
       "    .dataframe tbody tr th {\n",
       "        vertical-align: top;\n",
       "    }\n",
       "\n",
       "    .dataframe thead th {\n",
       "        text-align: right;\n",
       "    }\n",
       "</style>\n",
       "<table border=\"1\" class=\"dataframe\">\n",
       "  <thead>\n",
       "    <tr style=\"text-align: right;\">\n",
       "      <th></th>\n",
       "      <th>Id</th>\n",
       "      <th>Title</th>\n",
       "      <th>FullDescription</th>\n",
       "      <th>LocationRaw</th>\n",
       "      <th>LocationNormalized</th>\n",
       "      <th>ContractType</th>\n",
       "      <th>ContractTime</th>\n",
       "      <th>Company</th>\n",
       "      <th>Category</th>\n",
       "      <th>SalaryRaw</th>\n",
       "      <th>SalaryNormalized</th>\n",
       "      <th>SourceName</th>\n",
       "    </tr>\n",
       "  </thead>\n",
       "  <tbody>\n",
       "    <tr>\n",
       "      <th>0</th>\n",
       "      <td>12612628</td>\n",
       "      <td>Engineering Systems Analyst</td>\n",
       "      <td>Engineering Systems Analyst Dorking Surrey Sal...</td>\n",
       "      <td>Dorking, Surrey, Surrey</td>\n",
       "      <td>Dorking</td>\n",
       "      <td>NaN</td>\n",
       "      <td>permanent</td>\n",
       "      <td>Gregory Martin International</td>\n",
       "      <td>Engineering Jobs</td>\n",
       "      <td>20000 - 30000/annum 20-30K</td>\n",
       "      <td>25000</td>\n",
       "      <td>cv-library.co.uk</td>\n",
       "    </tr>\n",
       "    <tr>\n",
       "      <th>1</th>\n",
       "      <td>12612830</td>\n",
       "      <td>Stress Engineer Glasgow</td>\n",
       "      <td>Stress Engineer Glasgow Salary **** to **** We...</td>\n",
       "      <td>Glasgow, Scotland, Scotland</td>\n",
       "      <td>Glasgow</td>\n",
       "      <td>NaN</td>\n",
       "      <td>permanent</td>\n",
       "      <td>Gregory Martin International</td>\n",
       "      <td>Engineering Jobs</td>\n",
       "      <td>25000 - 35000/annum 25-35K</td>\n",
       "      <td>30000</td>\n",
       "      <td>cv-library.co.uk</td>\n",
       "    </tr>\n",
       "    <tr>\n",
       "      <th>2</th>\n",
       "      <td>12612844</td>\n",
       "      <td>Modelling and simulation analyst</td>\n",
       "      <td>Mathematical Modeller / Simulation Analyst / O...</td>\n",
       "      <td>Hampshire, South East, South East</td>\n",
       "      <td>Hampshire</td>\n",
       "      <td>NaN</td>\n",
       "      <td>permanent</td>\n",
       "      <td>Gregory Martin International</td>\n",
       "      <td>Engineering Jobs</td>\n",
       "      <td>20000 - 40000/annum 20-40K</td>\n",
       "      <td>30000</td>\n",
       "      <td>cv-library.co.uk</td>\n",
       "    </tr>\n",
       "    <tr>\n",
       "      <th>3</th>\n",
       "      <td>12613049</td>\n",
       "      <td>Engineering Systems Analyst / Mathematical Mod...</td>\n",
       "      <td>Engineering Systems Analyst / Mathematical Mod...</td>\n",
       "      <td>Surrey, South East, South East</td>\n",
       "      <td>Surrey</td>\n",
       "      <td>NaN</td>\n",
       "      <td>permanent</td>\n",
       "      <td>Gregory Martin International</td>\n",
       "      <td>Engineering Jobs</td>\n",
       "      <td>25000 - 30000/annum 25K-30K negotiable</td>\n",
       "      <td>27500</td>\n",
       "      <td>cv-library.co.uk</td>\n",
       "    </tr>\n",
       "    <tr>\n",
       "      <th>4</th>\n",
       "      <td>12613647</td>\n",
       "      <td>Pioneer, Miser Engineering Systems Analyst</td>\n",
       "      <td>Pioneer, Miser  Engineering Systems Analyst Do...</td>\n",
       "      <td>Surrey, South East, South East</td>\n",
       "      <td>Surrey</td>\n",
       "      <td>NaN</td>\n",
       "      <td>permanent</td>\n",
       "      <td>Gregory Martin International</td>\n",
       "      <td>Engineering Jobs</td>\n",
       "      <td>20000 - 30000/annum 20-30K</td>\n",
       "      <td>25000</td>\n",
       "      <td>cv-library.co.uk</td>\n",
       "    </tr>\n",
       "  </tbody>\n",
       "</table>\n",
       "</div>"
      ],
      "text/plain": [
       "         Id                                              Title  \\\n",
       "0  12612628                        Engineering Systems Analyst   \n",
       "1  12612830                            Stress Engineer Glasgow   \n",
       "2  12612844                   Modelling and simulation analyst   \n",
       "3  12613049  Engineering Systems Analyst / Mathematical Mod...   \n",
       "4  12613647         Pioneer, Miser Engineering Systems Analyst   \n",
       "\n",
       "                                     FullDescription  \\\n",
       "0  Engineering Systems Analyst Dorking Surrey Sal...   \n",
       "1  Stress Engineer Glasgow Salary **** to **** We...   \n",
       "2  Mathematical Modeller / Simulation Analyst / O...   \n",
       "3  Engineering Systems Analyst / Mathematical Mod...   \n",
       "4  Pioneer, Miser  Engineering Systems Analyst Do...   \n",
       "\n",
       "                         LocationRaw LocationNormalized ContractType  \\\n",
       "0            Dorking, Surrey, Surrey            Dorking          NaN   \n",
       "1        Glasgow, Scotland, Scotland            Glasgow          NaN   \n",
       "2  Hampshire, South East, South East          Hampshire          NaN   \n",
       "3     Surrey, South East, South East             Surrey          NaN   \n",
       "4     Surrey, South East, South East             Surrey          NaN   \n",
       "\n",
       "  ContractTime                       Company          Category  \\\n",
       "0    permanent  Gregory Martin International  Engineering Jobs   \n",
       "1    permanent  Gregory Martin International  Engineering Jobs   \n",
       "2    permanent  Gregory Martin International  Engineering Jobs   \n",
       "3    permanent  Gregory Martin International  Engineering Jobs   \n",
       "4    permanent  Gregory Martin International  Engineering Jobs   \n",
       "\n",
       "                                SalaryRaw  SalaryNormalized        SourceName  \n",
       "0              20000 - 30000/annum 20-30K             25000  cv-library.co.uk  \n",
       "1              25000 - 35000/annum 25-35K             30000  cv-library.co.uk  \n",
       "2              20000 - 40000/annum 20-40K             30000  cv-library.co.uk  \n",
       "3  25000 - 30000/annum 25K-30K negotiable             27500  cv-library.co.uk  \n",
       "4              20000 - 30000/annum 20-30K             25000  cv-library.co.uk  "
      ]
     },
     "execution_count": 5,
     "metadata": {},
     "output_type": "execute_result"
    }
   ],
   "source": [
    "df.head()"
   ]
  },
  {
   "cell_type": "markdown",
   "metadata": {},
   "source": [
    "Se ve que el dataSet en cuestión tiene 12 columnas:\n",
    "* Item Id: identificador de dato.\n",
    "* Title: título del trabajo\n",
    "* FullDescription: Descripción del trabajo\n",
    "* LocationRaw: Localización tal como esta en la página\n",
    "* LocationNormalized: Localización normalizada a estandares.\n",
    "* Contract Type: Tipo de contrato(muchos Nan Aquí)\n",
    "* ContractTime: Tiempo de contrato\n",
    "* Company: compañia\n",
    "* Category: categoria\n",
    "* SalaryRaw: Salario tal como aparece en la pagina(rangos y detalles)\n",
    "* SalaryNormalized: Salarios pasados a números.\n",
    "* Source: de donde viene la oferta.\n",
    "\n",
    "Este dataset tiene aproximadamente 230000 datos, de las cuales se usaran 2400 para entranamiento y 10000 de validación."
   ]
  },
  {
   "cell_type": "code",
   "execution_count": 6,
   "metadata": {},
   "outputs": [
    {
     "data": {
      "text/plain": [
       "28839.907916666667"
      ]
     },
     "execution_count": 6,
     "metadata": {},
     "output_type": "execute_result"
    }
   ],
   "source": [
    "df_train.SalaryNormalized.mean() #media de los salarios de entrenamiento"
   ]
  },
  {
   "cell_type": "code",
   "execution_count": 7,
   "metadata": {},
   "outputs": [
    {
     "data": {
      "text/plain": [
       "34917.415"
      ]
     },
     "execution_count": 7,
     "metadata": {},
     "output_type": "execute_result"
    }
   ],
   "source": [
    "df_val.SalaryNormalized.mean() #media de los salarios de validación"
   ]
  },
  {
   "cell_type": "markdown",
   "metadata": {},
   "source": [
    "## B)"
   ]
  },
  {
   "cell_type": "code",
   "execution_count": 8,
   "metadata": {},
   "outputs": [],
   "source": [
    "#extracción de variables a utilizar\n",
    "texto_train = df_train.FullDescription\n",
    "salario_train = df_train.SalaryNormalized\n",
    "texto_val = df_val.FullDescription\n",
    "salario_val = df_val.SalaryNormalized"
   ]
  },
  {
   "cell_type": "code",
   "execution_count": 9,
   "metadata": {},
   "outputs": [
    {
     "data": {
      "text/plain": [
       "(10000, 12)"
      ]
     },
     "execution_count": 9,
     "metadata": {},
     "output_type": "execute_result"
    }
   ],
   "source": [
    "df_val.shape\n",
    "#dimensión de validación"
   ]
  },
  {
   "cell_type": "code",
   "execution_count": 10,
   "metadata": {},
   "outputs": [
    {
     "data": {
      "text/plain": [
       "(2400, 12)"
      ]
     },
     "execution_count": 10,
     "metadata": {},
     "output_type": "execute_result"
    }
   ],
   "source": [
    "df_train.shape\n",
    "#dimensión de entrenamiento"
   ]
  },
  {
   "cell_type": "markdown",
   "metadata": {},
   "source": [
    "## C)"
   ]
  },
  {
   "cell_type": "code",
   "execution_count": 11,
   "metadata": {},
   "outputs": [
    {
     "data": {
      "text/plain": [
       "' mathemat model simul analyst model pono model'"
      ]
     },
     "execution_count": 11,
     "metadata": {},
     "output_type": "execute_result"
    }
   ],
   "source": [
    "#procesamiento de texto para laboratorio\n",
    "import re, time\n",
    "from nltk.corpus import stopwords\n",
    "from nltk import WordNetLemmatizer, word_tokenize\n",
    "from nltk.stem.porter import PorterStemmer\n",
    "def word_extractor(text):\n",
    "    wordlemmatizer = WordNetLemmatizer()\n",
    "    wordstemmer = PorterStemmer()\n",
    "    commonwords = stopwords.words('english')\n",
    "    text = re.sub(r'(\\/)+', r' ',text)#esta expresión regular quita los / de FullDescription\n",
    "    words = \"\"\n",
    "    wordtokens = [ wordstemmer.stem(word.lower())for word in word_tokenize(text) ]\n",
    "    for word in wordtokens:\n",
    "        if word not in commonwords:\n",
    "            words+=\" \"+word\n",
    "    return words\n",
    "#un ejemplo de como funciona el procesador de texto\n",
    "word_extractor(\"Mathematical Modeller / Simulation Analyst Modeler / pono modeler\")\n",
    "#..."
   ]
  },
  {
   "cell_type": "markdown",
   "metadata": {},
   "source": [
    "Lo que se realizó en el preprocesamiento de arriba es dejar las palabras claves en los trabajos, omitiendo stop words. Esto se realizó para que el learner tuviera datos consistes, por ejemplo : si un trabajo requiere un \"modeller\" y otro un \"model\" entonces los dos seran tomados como model, relacionandolos. Tambien es importante notar que los datos no estaban en las mejores condiciones, uno de los problemas que se notaron es que los trabajos estaban separados con /, lo que era un problema para el procesador utilizado, por lo cual fue necesario usar expresiones regulares para borrar los / de las descripciones de trabajos."
   ]
  },
  {
   "cell_type": "code",
   "execution_count": 12,
   "metadata": {},
   "outputs": [
    {
     "name": "stdout",
     "output_type": "stream",
     "text": [
      "CPU times: user 1min 28s, sys: 330 ms, total: 1min 29s\n",
      "Wall time: 1min 29s\n"
     ]
    }
   ],
   "source": [
    "%%time\n",
    "#Procesamiento de los datos, advertencia: se puede tardar mucho si el input crece.\n",
    "#Esta data tardó 1 minuto y 30 segundos aproximadamente en correr con 2400 datos de entrenamiento.\n",
    "import numpy as np\n",
    "from sklearn.feature_extraction.text import CountVectorizer\n",
    "textos_train = [word_extractor(text) for text in df_train.FullDescription]\n",
    "textos_val = [word_extractor(text) for text in df_val.FullDescription]\n",
    "vectorizer = CountVectorizer(ngram_range=(1, 1), binary='False')\n",
    "vectorizer.fit(np.asarray(textos_train))\n",
    "features_train = vectorizer.transform(textos_train)\n",
    "features_val = vectorizer.transform(textos_val)\n",
    "labels_train = np.asarray(df_train.SalaryNormalized.astype(float))\n",
    "labels_val = np.asarray(df_val.SalaryNormalized.astype(float))\n",
    "vocab = vectorizer.get_feature_names()\n",
    "dist=list(np.array(features_train.sum(axis=0)).reshape(-1,))"
   ]
  },
  {
   "cell_type": "markdown",
   "metadata": {},
   "source": [
    "Aquí se procesan los datos para que estos puedan ser utilizados por el learner. Esto se hace para que el modelo lineal tenga el input correcto, una estructura indicando si la palabra i-esima está o no en la descripción(palabras extraidas con el procesador de palabras descrito dos códigos atras). Este proceso demora mucho, probablemente por la naturaleza del input, son muchas palabras las cuales se pueden entrelazar con otras, o tener palabras del tipo \"98experiencie\" que se pudieron haber tomado como una en el input. En otras palabras, existe el riesgo que todas las palabras de todos los datos hayan salido diferentes, generando overfitting, lo que que refleja mucho exito en los datos de entrenamiento, pero fracaso en los datos de validación."
   ]
  },
  {
   "cell_type": "markdown",
   "metadata": {},
   "source": [
    "## E)"
   ]
  },
  {
   "cell_type": "code",
   "execution_count": 13,
   "metadata": {},
   "outputs": [
    {
     "name": "stdout",
     "output_type": "stream",
     "text": [
      "MAE on train:  97.21598004615554\n",
      "MAE on validation:  18540.851090934426\n"
     ]
    }
   ],
   "source": [
    "#aplicando el modelo lineal, se puede ver los resultados MAE \n",
    "from sklearn.linear_model import LinearRegression as LR\n",
    "model = LR(fit_intercept=True, normalize=False)\n",
    "model.fit(features_train,labels_train)\n",
    "from sklearn.metrics import mean_absolute_error #measure MAE\n",
    "print(\"MAE on train: \",mean_absolute_error(labels_train, model.predict(features_train)))\n",
    "print(\"MAE on validation: \",mean_absolute_error(labels_val, model.predict(features_val)))"
   ]
  },
  {
   "cell_type": "markdown",
   "metadata": {},
   "source": [
    "Se ve que el error absoluto de entrenamiento es pequeño para los datos que se estan manejando. Sin embargo, el error de validación es grande. Esto puede deberse ya que hay un cierto grado de overfitting con los datos de entrenamiento."
   ]
  },
  {
   "cell_type": "code",
   "execution_count": 62,
   "metadata": {},
   "outputs": [
    {
     "name": "stdout",
     "output_type": "stream",
     "text": [
      "MAE on train:  143.15978804343655\n",
      "MAE on validation:  14422.075972480512\n"
     ]
    }
   ],
   "source": [
    "df_val = df.iloc[-20000:] #se toman los ultimos 20000 datos como datos de validación\n",
    "df_train=df.iloc[:1000] #se toman los primeros 1000 datos como datos de entrenamiento\n",
    "textos_train = [word_extractor(text) for text in df_train.FullDescription]\n",
    "textos_val = [word_extractor(text) for text in df_val.FullDescription]\n",
    "vectorizer = CountVectorizer(ngram_range=(1, 1), binary='False')\n",
    "vectorizer.fit(np.asarray(textos_train))\n",
    "features_train = vectorizer.transform(textos_train)\n",
    "features_val = vectorizer.transform(textos_val)\n",
    "labels_train = np.asarray(df_train.SalaryNormalized.astype(float))\n",
    "labels_val = np.asarray(df_val.SalaryNormalized.astype(float))\n",
    "vocab = vectorizer.get_feature_names()\n",
    "dist=list(np.array(features_train.sum(axis=0)).reshape(-1,))\n",
    "#aplicando el modelo lineal, se puede ver los resultados MAE \n",
    "model = LR(fit_intercept=True, normalize=False)\n",
    "model.fit(features_train,labels_train)\n",
    "print(\"MAE on train: \",mean_absolute_error(labels_train, model.predict(features_train)))\n",
    "print(\"MAE on validation: \",mean_absolute_error(labels_val, model.predict(features_val)))\n"
   ]
  },
  {
   "cell_type": "markdown",
   "metadata": {},
   "source": [
    "Se ve que al tomar un modelo con 20000 de validación y 1000 de training, aumentó el error de training y disminuyó el error validación. Este es una forma de disminuir el MAE un poco en comparación con el caso anterior. Disminuyó el overfitting un poco. Viendo este caso en particular, el problema del overfitting podría ser solucionado aumentando los datos de validación y disminuyendo de los de training. Aunque podría ser solo válido para este caso en particular, por que en teoría eso no debería pasar. "
   ]
  },
  {
   "cell_type": "markdown",
   "metadata": {},
   "source": [
    "<a id=\"tercero\"></a>\n",
    "## 3. Linear Regression by hand\n",
    "\n",
    "En esta sección se le pedirá que implemente la regresión lineal ordinaria a través del algoritmo SGD (*Stochastic Gradient Descend*) para encontrar los parámetros de la regresión a través de este algoritmo de manera iterativa. La técnica de SGD es sin duda dominante al momento de entrenar modelos en máquinas de aprendizaje cuando la solución no tiene un óptimo derivable analíticamente, en este caso la regresión lineal ordinaria que trabajaremos si tiene óptimo anaĺitico, sin embargo, se le pedirá que compare este caso con fines pedagógicos.\n",
    "\n",
    "* Regresión lineal ordinaria:\n",
    "$$\n",
    "\\hat{y} = f(\\vec{x}) =\\vec{\\beta}^T\\cdot \\vec{x}\n",
    "$$\n",
    "\n",
    "* Función objetivo:\n",
    "$$\n",
    "Loss = \\frac{1}{N} \\sum_i^N ( y_i - \\hat{y}_i )^2\n",
    "$$\n",
    "\n",
    "\n",
    "* Algoritmo SGD para regresión lineal ordinaria:\n",
    "$$ \\vec{\\beta}^{(t+1)} \\leftarrow \\vec{\\beta}^{(t)} - \\eta \\nabla_{\\vec{\\beta}^{(t)}} Loss $$\n",
    "\n",
    "Para lo que sigue de la actividad sólo podrá utilizar *numpy* (para operaciones de algebra lineal).\n",
    "\n",
    "> a) Escriba una función que calcule la función de pérdida, error cuadrático medio (MSE - *mean squared error*), para un dato o para un conjunto de datos.\n",
    "\n",
    "> b) Escriba una función que calcule el gradiente (derivada) de la función de pérdida anterior, para un dato o para un conjunto de datos. *Escriba explícitamente la derivada (gradiente)*.\n",
    "\n",
    "> c) Escriba una función que calcule los parámetros de una regresión lineal simple de manera analítica (es decir el mínimo global). \n",
    "\n",
    "<div class=\"alert alert-warning\"> Hint: ésto debería ser la ecuación desglosada de la derivada igual a 0, la cual incluye $(X^TX)^{-1}$</div>\n",
    "\n",
    "\n",
    "> d) Ahora escriba un programa que permita entrenar una regresión lineal a través del algoritmo SGD mostrado en la ecuación del algoritmo SGD, es decir, que de manera iterativa, vaya tomando un dato a la vez, y actualizando el parámetro $\\beta$ a través del gradiente descendiente de la función de pérdida de la regresión lineal ordinaria, de la pregunta b).\n",
    "\n",
    "> e) Demuestre que sus programas funcionan en un problema de regresión simple. Para esto utilice el dataset **Boston Housing** , disponible a través de la librería __[*sklearn*](http://scikit-learn.org)__, el cual corresponde a el precio de diferentes casas en Boston además de distintas características relevantes respecto al lugar, como por ejemplo el crimen en la ciudad, el número de habitaciones, que tan vieja es, distancia a lugares relevantes, entre otros. Éstas características deben combinarse linealmente para estimar el precio de la casa.\n",
    "<div class=\"alert alert-block alert-info\">Es una buena práctica el normalizar los datos antes de trabajar con el modelo</div>\n",
    "\n",
    "```python\n",
    "from sklearn.datasets import load_boston\n",
    "X_train,y_train = load_boston(return_X_y=True)\n",
    "scaler = StandardScaler().fit(X_train)\n",
    "X_train = scaler.transform(X_train)\n",
    "```\n",
    "Para evaluar los resultados, construya un gráfico correspondiente a la función de pérdida utilizada en el entrenamiento *versus* número de iteraciones (**realice 1000 iteraciones**), utilizando sólo el conjunto de entrenamiento (el objetivo de esta sección es familiarizarse con el algoritmo). Además de reportar el tiempo de entrenamiento mediante el algoritmo implementado en c) y d).\n",
    "\n",
    "> e) Varié la tasa de aprendizaje $\\eta \\in [0,1]$ del algoritmo SGD del punto d), compare los resultados entre sí y con la solución óptima encontrada en c). Comente."
   ]
  },
  {
   "cell_type": "markdown",
   "metadata": {},
   "source": [
    "## A)"
   ]
  },
  {
   "cell_type": "code",
   "execution_count": 14,
   "metadata": {},
   "outputs": [],
   "source": [
    "import numpy as np\n",
    "def ecm(y_tongo,y):\n",
    "    #error cuadratico medio\n",
    "    return (y_tongo-y)**2\n",
    "def loss(y_tongo,y):\n",
    "    #función de perdida\n",
    "    suma = 0\n",
    "    vector = ecm(y_tongo,y)\n",
    "    for i in vector:\n",
    "        suma += i\n",
    "    return suma/len(vector)"
   ]
  },
  {
   "cell_type": "markdown",
   "metadata": {},
   "source": [
    "## B)"
   ]
  },
  {
   "cell_type": "code",
   "execution_count": 15,
   "metadata": {},
   "outputs": [],
   "source": [
    "def derivada(x,y,b):\n",
    "    #se aplica la formula vista en clases, descrita mas abajo por razones convenientes.\n",
    "    suma = 0\n",
    "    for i in range(len(y)):\n",
    "        suma += np.dot((np.dot(np.transpose(b) , x[i] ) - y[i] ),x[i])\n",
    "    return suma*2\n"
   ]
  },
  {
   "cell_type": "markdown",
   "metadata": {},
   "source": [
    "## C)"
   ]
  },
  {
   "cell_type": "markdown",
   "metadata": {},
   "source": [
    "$$\n",
    "   J(\\beta_{n}) = (X\\beta_{n} - Y)^{T} (X\\beta_{n} - Y)\n",
    "$$\n",
    "Como derivada debe ser 0, se tiene:\n",
    "$$\n",
    "    \\frac{\\partial J}{\\partial \\beta_{n}} = 0 \\rightarrow 2X^{T}(X\\beta_{n} - Y) = 0\n",
    "$$\n",
    "Despejando B, se tiene:\n",
    "$$\n",
    "    \\beta_{n} = (X^{T}X)^{-1}X^{T}Y\n",
    "$$"
   ]
  },
  {
   "cell_type": "code",
   "execution_count": 16,
   "metadata": {},
   "outputs": [],
   "source": [
    "def pendiente(x,y):\n",
    "    #se aplica una funcion para sacar la pendiente beta.\n",
    "    x_t=np.transpose(x)\n",
    "    inv=np.linalg.inv(np.dot(x_t,x))\n",
    "    return np.dot(np.dot(inv,x_t),y)\n"
   ]
  },
  {
   "cell_type": "markdown",
   "metadata": {},
   "source": [
    "## D)"
   ]
  },
  {
   "cell_type": "markdown",
   "metadata": {},
   "source": [
    "Teniendo ya la gradiente o derivada como:\n",
    "$$\n",
    "    \\frac{\\partial J}{\\partial \\beta_{n}} = 2 \\sum^{n}_{i = 1} (\\beta^{T} x_{i} - y_{i})x_{i}\n",
    "$$\n",
    "Se puede definir la gradiente descendente como:\n",
    "$$\n",
    "    \\beta_{t+1} = \\beta_{t} - \\eta_{t}\\frac{\\partial J}{\\partial \\beta_{n}}\n",
    "$$\n",
    "Para este caso:\n",
    "$$\n",
    "    \\beta_{t+1} = \\beta_{t} - \\eta_{t}\\ 2 \\sum^{n}_{i = 1} (\\beta^{T} x_{i} - y_{i})x_{i}\n",
    "$$"
   ]
  },
  {
   "cell_type": "code",
   "execution_count": 17,
   "metadata": {},
   "outputs": [],
   "source": [
    "def gd(x,y,eta,i):\n",
    "    #la función gradiente recibe x,y,eta y la cantidad de iteraciones.\n",
    "    #el beta inicial se calcula con la pendiente.\n",
    "    beta1 = pendiente(x,y)\n",
    "    cte = np.dot( eta,derivada(x,y,beta1) )\n",
    "    for i in range(i):\n",
    "        beta1 = beta1 - cte\n",
    "    return beta1"
   ]
  },
  {
   "cell_type": "markdown",
   "metadata": {},
   "source": [
    "## E)"
   ]
  },
  {
   "cell_type": "code",
   "execution_count": 55,
   "metadata": {},
   "outputs": [
    {
     "name": "stdout",
     "output_type": "stream",
     "text": [
      "2.1600499167107046e-12\n",
      "[-0.92041113  1.08098058  0.14296712  0.68220346 -2.06009246  2.67064141\n",
      "  0.02112063 -3.10444805  2.65878654 -2.07589814 -2.06215593  0.85664044\n",
      " -3.74867982]\n",
      "529.6251400575707\n",
      "529.6251400575685\n"
     ]
    },
    {
     "data": {
      "image/png": "[encoded data removed]",
      "text/plain": [
       "<matplotlib.figure.Figure at 0x7f16b319e5c0>"
      ]
     },
     "metadata": {},
     "output_type": "display_data"
    }
   ],
   "source": [
    "#se pone a prueba SGD usando el dataset de boston, normalizando las entradas x a valores mas entendibles.\n",
    "#esto fue porque  los x eran del orden de 10^-12, tras la normalización quedaron del orden 10^-1.\n",
    "from sklearn.datasets import load_boston\n",
    "import matplotlib.pyplot as plt\n",
    "from sklearn.preprocessing import StandardScaler\n",
    "X_train,y_train = load_boston(return_X_y=True)\n",
    "scaler = StandardScaler().fit(X_train)\n",
    "X_train = scaler.transform(X_train)\n",
    "beti=pendiente(np.array(X_train),np.array(y_train))\n",
    "derivada(np.array(X_train),np.array(y_train),beta)\n",
    "betas = gd(np.array(X_train),np.array(y_train),1,1000)\n",
    "iteraciones=np.arange(1,1000)\n",
    "errores=[]\n",
    "for i in iteraciones:\n",
    "    beta= gd(np.array(X_train),np.array(y_train),1,i)\n",
    "    y_tongo= np.dot(X_train,np.transpose(beta) )\n",
    "    errores.append(loss(y_tongo,y_train))\n",
    "\n",
    "errorVar=max(errores)-min(errores)\n",
    "plt.ylim((min(errores),max(errores)))\n",
    "plt.plot(iteraciones,errores)\n",
    "plt.xlabel(\"Iteraciones\")\n",
    "plt.ylabel(\"Perdida\")\n",
    "plt.title(\"Iteraciones v/s Perdida con eta = 1\")\n",
    "print(errorVar)\n",
    "print(beti)\n",
    "print(max(errores))\n",
    "print(min(errores))"
   ]
  },
  {
   "cell_type": "markdown",
   "metadata": {},
   "source": [
    "Como se ve en el gráfico, existe un comportamiento errático del error en función de la cantidad de iteraciones. Esto se debe principalmente ha que la diferencia entre el máximo y mínimo error es muy pequeña( $2.16 \\cdot 10^{-12}$ aproximadamente). Esto último habla del poco intervalo que existe entre las perdidas entre las iteraciones. No hay mucho mas que hablar excepto de que se ve muy poca perdida entre las 400 y 600 iteraciones(un punto bajo). Se puede ver que la función de perdida converge en 529.62 aproximadamente, recien notandose diferencias en la onceava cifra decimal."
   ]
  },
  {
   "cell_type": "markdown",
   "metadata": {},
   "source": [
    "## F)"
   ]
  },
  {
   "cell_type": "code",
   "execution_count": 51,
   "metadata": {},
   "outputs": [
    {
     "name": "stdout",
     "output_type": "stream",
     "text": [
      "1.8189894035458565e-12\n"
     ]
    },
    {
     "data": {
      "image/png": "[encoded data removed]",
      "text/plain": [
       "<matplotlib.figure.Figure at 0x7f16c1f094a8>"
      ]
     },
     "metadata": {},
     "output_type": "display_data"
    }
   ],
   "source": [
    "errores=[]\n",
    "for i in iteraciones:\n",
    "    beta= gd(np.array(X_train),np.array(y_train),0.7,i)\n",
    "    y_tongo= np.dot(X_train,np.transpose(beta) )\n",
    "    errores.append(loss(y_tongo,y_train))\n",
    "\n",
    "errorVar=max(errores)-min(errores)\n",
    "plt.ylim((min(errores),max(errores)))\n",
    "plt.plot(iteraciones,errores)\n",
    "plt.xlabel(\"Iteraciones\")\n",
    "plt.ylabel(\"Perdida\")\n",
    "plt.title(\"Iteraciones v/s Perdida con eta = 0.7\")\n",
    "print(errorVar)\n"
   ]
  },
  {
   "cell_type": "markdown",
   "metadata": {},
   "source": [
    "Comparando este gráfico con el de eta = 1, se ve que el comportamiento sigue siendo erratico, pero ahora hay mas puntos bajos que antes, ademas, la diferencia entre la máxima y mínima perdida bajó a $1.8 \\cdot 10^{-12}$."
   ]
  },
  {
   "cell_type": "code",
   "execution_count": 52,
   "metadata": {},
   "outputs": [
    {
     "name": "stdout",
     "output_type": "stream",
     "text": [
      "2.0463630789890885e-12\n"
     ]
    },
    {
     "data": {
      "image/png": "[encoded data removed]",
      "text/plain": [
       "<matplotlib.figure.Figure at 0x7f16c1f09860>"
      ]
     },
     "metadata": {},
     "output_type": "display_data"
    }
   ],
   "source": [
    "errores=[]\n",
    "for i in iteraciones:\n",
    "    beta= gd(np.array(X_train),np.array(y_train),0.5,i)\n",
    "    y_tongo= np.dot(X_train,np.transpose(beta) )\n",
    "    errores.append(loss(y_tongo,y_train))\n",
    "\n",
    "errorVar=max(errores)-min(errores)\n",
    "plt.ylim((min(errores),max(errores)))\n",
    "plt.plot(iteraciones,errores)\n",
    "plt.xlabel(\"Iteraciones\")\n",
    "plt.ylabel(\"Perdida\")\n",
    "plt.title(\"Iteraciones v/s Perdida con eta = 0.5\")\n",
    "print(errorVar)"
   ]
  },
  {
   "cell_type": "markdown",
   "metadata": {},
   "source": [
    "Comparando este gráfico con el de eta = 1, se ve que el comportamiento sigue siendo erratico.La diferencia entre la máxima y mínima perdida bajó a $2.04 \\cdot 10^{-12}$. Pero sigue siendo mayor a la de eta = 0.7."
   ]
  },
  {
   "cell_type": "code",
   "execution_count": 53,
   "metadata": {},
   "outputs": [
    {
     "name": "stdout",
     "output_type": "stream",
     "text": [
      "2.0463630789890885e-12\n"
     ]
    },
    {
     "data": {
      "image/png": "[encoded data removed]",
      "text/plain": [
       "<matplotlib.figure.Figure at 0x7f16b351ae48>"
      ]
     },
     "metadata": {},
     "output_type": "display_data"
    }
   ],
   "source": [
    "errores=[]\n",
    "for i in iteraciones:\n",
    "    beta= gd(np.array(X_train),np.array(y_train),0.3,i)\n",
    "    y_tongo= np.dot(X_train,np.transpose(beta) )\n",
    "    errores.append(loss(y_tongo,y_train))\n",
    "\n",
    "errorVar=max(errores)-min(errores)\n",
    "plt.ylim((min(errores),max(errores)))\n",
    "plt.plot(iteraciones,errores)\n",
    "plt.xlabel(\"Iteraciones\")\n",
    "plt.ylabel(\"Perdida\")\n",
    "plt.title(\"Iteraciones v/s Perdida con eta = 0.3\")\n",
    "print(errorVar)\n"
   ]
  },
  {
   "cell_type": "markdown",
   "metadata": {},
   "source": [
    "Comparando este gráfico con el de eta = 1, se ve que el comportamiento sigue siendo erratico,de hecho, este gráfico es muy similar al que arrojó el eta = 0.5, ademas, la diferencia entre la máxima y mínima perdida bajó a $2.04 \\cdot 10^{-12}$."
   ]
  },
  {
   "cell_type": "code",
   "execution_count": 54,
   "metadata": {},
   "outputs": [
    {
     "name": "stdout",
     "output_type": "stream",
     "text": [
      "1.7053025658242404e-12\n"
     ]
    },
    {
     "data": {
      "image/png": "[encoded data removed]",
      "text/plain": [
       "<matplotlib.figure.Figure at 0x7f16b32703c8>"
      ]
     },
     "metadata": {},
     "output_type": "display_data"
    }
   ],
   "source": [
    "errores=[]\n",
    "for i in iteraciones:\n",
    "    beta= gd(np.array(X_train),np.array(y_train),0.001,i)\n",
    "    y_tongo= np.dot(X_train,np.transpose(beta) )\n",
    "    errores.append(loss(y_tongo,y_train))\n",
    "\n",
    "errorVar=max(errores)-min(errores)\n",
    "plt.ylim((min(errores),max(errores)))\n",
    "plt.plot(iteraciones,errores)\n",
    "plt.xlabel(\"Iteraciones\")\n",
    "plt.ylabel(\"Perdida\")\n",
    "plt.title(\"Iteraciones v/s Perdida con eta = 0.001\")\n",
    "print(errorVar)"
   ]
  },
  {
   "cell_type": "markdown",
   "metadata": {},
   "source": [
    "Comparando este gráfico con el de eta = 1, se ve que el comportamiento no es tan erratico, tiene una forma sinusoidal en la cantidad de iteraciones, ademas, la diferencia entre la máxima y mínima perdida bajó a $1.7 \\cdot 10^{-12}$, incluso mas que en el gráfico de eta = 0.7. "
   ]
  },
  {
   "cell_type": "markdown",
   "metadata": {},
   "source": [
    "### Referencias\n",
    "[1] Hastie, T.; Tibshirani, R., Friedman, J. (2009), *The Elements of Statistical Learning*, Second Edition.\n",
    "Springer New York Inc.  \n",
    "[2] http://statweb.stanford.edu/tibs/ElemStatLearn/datasets/  \n",
    "[3] https://en.wikipedia.org/wiki/Stop words  \n",
    "[4] https://en.wikipedia.org/wiki/Stemming  \n",
    "[5] https://en.wikipedia.org/wiki/Lemmatisation  \n",
    "[6] http://scikit-learn.org/stable/modules/classes.html#module-sklearn.feature extraction.text  \n",
    "[7] http://www.nltk.org/  \n",
    "[8] https://gluon.mxnet.io/chapter06_optimization/gd-sgd-scratch.html  \n",
    "[9] https://towardsdatascience.com/linear-regression-simplified-ordinary-least-square-vs-gradient-descent-48145de2cf76"
   ]
  }
 ],
 "metadata": {
  "kernelspec": {
   "display_name": "Python 3",
   "language": "python",
   "name": "python3"
  },
  "language_info": {
   "codemirror_mode": {
    "name": "ipython",
    "version": 3
   },
   "file_extension": ".py",
   "mimetype": "text/x-python",
   "name": "python",
   "nbconvert_exporter": "python",
   "pygments_lexer": "ipython3",
   "version": "3.6.4"
  }
 },
 "nbformat": 4,
 "nbformat_minor": 2
}
