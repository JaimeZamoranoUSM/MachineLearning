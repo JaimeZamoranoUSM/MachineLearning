{
 "cells": [
  {
   "cell_type": "markdown",
   "metadata": {},
   "source": [
    "<img src=\"http://www.exalumnos.usm.cl/wp-content/uploads/2015/06/Isotipo-Negro.gif\" title=\"Title text\" width=\"20%\" height=\"20%\" />\n",
    "\n",
    "\n",
    "<hr style=\"height:2px;border:none\"/>\n",
    "<h1 align='center'> INF-393 Máquinas de Aprendizaje II-2018 </h1>\n",
    "\n",
    "<H3 align='center'> Tarea 3 - Ensamblados y modelos avanzados </H3>\n",
    "<hr style=\"height:2px;border:none\"/>\n",
    "\n",
    "**Temas**  \n",
    "* Técnicas de ensamblado: *bagging*, *boosting*, *random forest*.\n",
    "* Redes Neuronales Convolucionales vs *Feed Forward*\n",
    "* Aprendizaje no supervisado: *hidden models*\n",
    "* Aprendizaje sobre secuencias\n",
    " \n",
    "\n",
    "** Formalidades **  \n",
    "* Equipos de trabajo de: 2 personas (*cada uno debe estar en condiciones de realizar una presentación y discutir sobre cada punto del trabajo realizado*)\n",
    "* Se debe preparar una presentación de 20 minutos. Presentador será elegido aleatoriamente.\n",
    "* Se debe preparar un (breve) Jupyter/IPython notebook que explique la actividad realizada y las conclusiones del trabajo\n",
    "* Fecha de entrega y discusión: 21 de Diciembre (11:55 hrs)\n",
    "* Formato de entrega: envı́o de link Github al correo electrónico del ayudante (*<francisco.mena.13@sansano.usm.cl>*) , incluyendo al profesor en copia (*<jnancu@inf.utfsm.cl>*). Por favor especificar el siguiente asunto: [Tarea3-INF393-II-2018]\n",
    "\n",
    "<hr style=\"height:2px;border:none\"/>\n",
    "\n",
    "La tarea se divide en secciones:\n",
    "\n",
    "[1.](#primero) Calidad de un vino  \n",
    "[2.](#segundo) Redes Convolucionales sobre imágenes  \n",
    "[3.](#tercero) Cadenas de Markov"
   ]
  },
  {
   "cell_type": "code",
   "execution_count": 21,
   "metadata": {},
   "outputs": [],
   "source": [
    "import numpy as np\n",
    "import keras\n",
    "import pandas as pd\n",
    "#import urllib2,re\n",
    "import matplotlib.pyplot as plt\n",
    "import scipy.io as sio\n",
    "from sklearn.discriminant_analysis import LinearDiscriminantAnalysis as LDA\n",
    "from sklearn.discriminant_analysis import QuadraticDiscriminantAnalysis as QDA\n",
    "from sklearn.model_selection import train_test_split\n",
    "from sklearn.preprocessing import RobustScaler,StandardScaler\n",
    "from sklearn.neighbors import KNeighborsClassifier\n",
    "from sklearn.svm import SVC as SVM\n",
    "from sklearn.tree import DecisionTreeClassifier as Tree\n",
    "from keras.models import Sequential\n",
    "from keras.layers import Dense\n",
    "from keras.optimizers import SGD"
   ]
  },
  {
   "cell_type": "markdown",
   "metadata": {},
   "source": [
    "# 1) Calidad de un vino\n"
   ]
  },
  {
   "cell_type": "markdown",
   "metadata": {},
   "source": [
    "## A)\n",
    "Carge los dos dataset en un único dataframe de pandas, además de agregar una columna indicando si es vino tinto o blanco. Describa el dataset a trabajar."
   ]
  },
  {
   "cell_type": "code",
   "execution_count": 22,
   "metadata": {},
   "outputs": [
    {
     "name": "stdout",
     "output_type": "stream",
     "text": [
      "(6497, 13)\n"
     ]
    },
    {
     "data": {
      "text/html": [
       "<div>\n",
       "<style scoped>\n",
       "    .dataframe tbody tr th:only-of-type {\n",
       "        vertical-align: middle;\n",
       "    }\n",
       "\n",
       "    .dataframe tbody tr th {\n",
       "        vertical-align: top;\n",
       "    }\n",
       "\n",
       "    .dataframe thead th {\n",
       "        text-align: right;\n",
       "    }\n",
       "</style>\n",
       "<table border=\"1\" class=\"dataframe\">\n",
       "  <thead>\n",
       "    <tr style=\"text-align: right;\">\n",
       "      <th></th>\n",
       "      <th>fixed acidity</th>\n",
       "      <th>volatile acidity</th>\n",
       "      <th>citric acid</th>\n",
       "      <th>residual sugar</th>\n",
       "      <th>chlorides</th>\n",
       "      <th>free sulfur dioxide</th>\n",
       "      <th>total sulfur dioxide</th>\n",
       "      <th>density</th>\n",
       "      <th>pH</th>\n",
       "      <th>sulphates</th>\n",
       "      <th>alcohol</th>\n",
       "      <th>quality</th>\n",
       "      <th>tipo</th>\n",
       "    </tr>\n",
       "  </thead>\n",
       "  <tbody>\n",
       "    <tr>\n",
       "      <th>0</th>\n",
       "      <td>7.4</td>\n",
       "      <td>0.70</td>\n",
       "      <td>0.00</td>\n",
       "      <td>1.9</td>\n",
       "      <td>0.076</td>\n",
       "      <td>11.0</td>\n",
       "      <td>34.0</td>\n",
       "      <td>0.9978</td>\n",
       "      <td>3.51</td>\n",
       "      <td>0.56</td>\n",
       "      <td>9.4</td>\n",
       "      <td>5</td>\n",
       "      <td>0</td>\n",
       "    </tr>\n",
       "    <tr>\n",
       "      <th>1</th>\n",
       "      <td>7.8</td>\n",
       "      <td>0.88</td>\n",
       "      <td>0.00</td>\n",
       "      <td>2.6</td>\n",
       "      <td>0.098</td>\n",
       "      <td>25.0</td>\n",
       "      <td>67.0</td>\n",
       "      <td>0.9968</td>\n",
       "      <td>3.20</td>\n",
       "      <td>0.68</td>\n",
       "      <td>9.8</td>\n",
       "      <td>5</td>\n",
       "      <td>0</td>\n",
       "    </tr>\n",
       "    <tr>\n",
       "      <th>2</th>\n",
       "      <td>7.8</td>\n",
       "      <td>0.76</td>\n",
       "      <td>0.04</td>\n",
       "      <td>2.3</td>\n",
       "      <td>0.092</td>\n",
       "      <td>15.0</td>\n",
       "      <td>54.0</td>\n",
       "      <td>0.9970</td>\n",
       "      <td>3.26</td>\n",
       "      <td>0.65</td>\n",
       "      <td>9.8</td>\n",
       "      <td>5</td>\n",
       "      <td>0</td>\n",
       "    </tr>\n",
       "    <tr>\n",
       "      <th>3</th>\n",
       "      <td>11.2</td>\n",
       "      <td>0.28</td>\n",
       "      <td>0.56</td>\n",
       "      <td>1.9</td>\n",
       "      <td>0.075</td>\n",
       "      <td>17.0</td>\n",
       "      <td>60.0</td>\n",
       "      <td>0.9980</td>\n",
       "      <td>3.16</td>\n",
       "      <td>0.58</td>\n",
       "      <td>9.8</td>\n",
       "      <td>6</td>\n",
       "      <td>0</td>\n",
       "    </tr>\n",
       "    <tr>\n",
       "      <th>4</th>\n",
       "      <td>7.4</td>\n",
       "      <td>0.70</td>\n",
       "      <td>0.00</td>\n",
       "      <td>1.9</td>\n",
       "      <td>0.076</td>\n",
       "      <td>11.0</td>\n",
       "      <td>34.0</td>\n",
       "      <td>0.9978</td>\n",
       "      <td>3.51</td>\n",
       "      <td>0.56</td>\n",
       "      <td>9.4</td>\n",
       "      <td>5</td>\n",
       "      <td>0</td>\n",
       "    </tr>\n",
       "    <tr>\n",
       "      <th>5</th>\n",
       "      <td>7.4</td>\n",
       "      <td>0.66</td>\n",
       "      <td>0.00</td>\n",
       "      <td>1.8</td>\n",
       "      <td>0.075</td>\n",
       "      <td>13.0</td>\n",
       "      <td>40.0</td>\n",
       "      <td>0.9978</td>\n",
       "      <td>3.51</td>\n",
       "      <td>0.56</td>\n",
       "      <td>9.4</td>\n",
       "      <td>5</td>\n",
       "      <td>0</td>\n",
       "    </tr>\n",
       "    <tr>\n",
       "      <th>6</th>\n",
       "      <td>7.9</td>\n",
       "      <td>0.60</td>\n",
       "      <td>0.06</td>\n",
       "      <td>1.6</td>\n",
       "      <td>0.069</td>\n",
       "      <td>15.0</td>\n",
       "      <td>59.0</td>\n",
       "      <td>0.9964</td>\n",
       "      <td>3.30</td>\n",
       "      <td>0.46</td>\n",
       "      <td>9.4</td>\n",
       "      <td>5</td>\n",
       "      <td>0</td>\n",
       "    </tr>\n",
       "    <tr>\n",
       "      <th>7</th>\n",
       "      <td>7.3</td>\n",
       "      <td>0.65</td>\n",
       "      <td>0.00</td>\n",
       "      <td>1.2</td>\n",
       "      <td>0.065</td>\n",
       "      <td>15.0</td>\n",
       "      <td>21.0</td>\n",
       "      <td>0.9946</td>\n",
       "      <td>3.39</td>\n",
       "      <td>0.47</td>\n",
       "      <td>10.0</td>\n",
       "      <td>7</td>\n",
       "      <td>0</td>\n",
       "    </tr>\n",
       "    <tr>\n",
       "      <th>8</th>\n",
       "      <td>7.8</td>\n",
       "      <td>0.58</td>\n",
       "      <td>0.02</td>\n",
       "      <td>2.0</td>\n",
       "      <td>0.073</td>\n",
       "      <td>9.0</td>\n",
       "      <td>18.0</td>\n",
       "      <td>0.9968</td>\n",
       "      <td>3.36</td>\n",
       "      <td>0.57</td>\n",
       "      <td>9.5</td>\n",
       "      <td>7</td>\n",
       "      <td>0</td>\n",
       "    </tr>\n",
       "    <tr>\n",
       "      <th>9</th>\n",
       "      <td>7.5</td>\n",
       "      <td>0.50</td>\n",
       "      <td>0.36</td>\n",
       "      <td>6.1</td>\n",
       "      <td>0.071</td>\n",
       "      <td>17.0</td>\n",
       "      <td>102.0</td>\n",
       "      <td>0.9978</td>\n",
       "      <td>3.35</td>\n",
       "      <td>0.80</td>\n",
       "      <td>10.5</td>\n",
       "      <td>5</td>\n",
       "      <td>0</td>\n",
       "    </tr>\n",
       "  </tbody>\n",
       "</table>\n",
       "</div>"
      ],
      "text/plain": [
       "   fixed acidity  volatile acidity  citric acid  residual sugar  chlorides  \\\n",
       "0            7.4              0.70         0.00             1.9      0.076   \n",
       "1            7.8              0.88         0.00             2.6      0.098   \n",
       "2            7.8              0.76         0.04             2.3      0.092   \n",
       "3           11.2              0.28         0.56             1.9      0.075   \n",
       "4            7.4              0.70         0.00             1.9      0.076   \n",
       "5            7.4              0.66         0.00             1.8      0.075   \n",
       "6            7.9              0.60         0.06             1.6      0.069   \n",
       "7            7.3              0.65         0.00             1.2      0.065   \n",
       "8            7.8              0.58         0.02             2.0      0.073   \n",
       "9            7.5              0.50         0.36             6.1      0.071   \n",
       "\n",
       "   free sulfur dioxide  total sulfur dioxide  density    pH  sulphates  \\\n",
       "0                 11.0                  34.0   0.9978  3.51       0.56   \n",
       "1                 25.0                  67.0   0.9968  3.20       0.68   \n",
       "2                 15.0                  54.0   0.9970  3.26       0.65   \n",
       "3                 17.0                  60.0   0.9980  3.16       0.58   \n",
       "4                 11.0                  34.0   0.9978  3.51       0.56   \n",
       "5                 13.0                  40.0   0.9978  3.51       0.56   \n",
       "6                 15.0                  59.0   0.9964  3.30       0.46   \n",
       "7                 15.0                  21.0   0.9946  3.39       0.47   \n",
       "8                  9.0                  18.0   0.9968  3.36       0.57   \n",
       "9                 17.0                 102.0   0.9978  3.35       0.80   \n",
       "\n",
       "   alcohol  quality  tipo  \n",
       "0      9.4        5     0  \n",
       "1      9.8        5     0  \n",
       "2      9.8        5     0  \n",
       "3      9.8        6     0  \n",
       "4      9.4        5     0  \n",
       "5      9.4        5     0  \n",
       "6      9.4        5     0  \n",
       "7     10.0        7     0  \n",
       "8      9.5        7     0  \n",
       "9     10.5        5     0  "
      ]
     },
     "execution_count": 22,
     "metadata": {},
     "output_type": "execute_result"
    }
   ],
   "source": [
    "import pandas as pd\n",
    "df_red = pd.read_csv(\"winequality-red.csv\",sep=\";\")\n",
    "tinto = len(df_red) \n",
    "df_white = pd.read_csv(\"winequality-white.csv\",sep=\";\")\n",
    "blanco= len(df_white)\n",
    "df = pd.concat([df_red,df_white], axis=0)\n",
    "lista=[]\n",
    "for i in range(tinto):\n",
    "    lista.append(0)\n",
    "for i in range(blanco):\n",
    "    lista.append(1)\n",
    "#genere atributo 'tipo'\n",
    "df.loc[:,'tipo'] = lista\n",
    "print(df.shape)\n",
    "df.head(10)"
   ]
  },
  {
   "cell_type": "markdown",
   "metadata": {},
   "source": [
    "El dataset tiene 6497 datos, y 13 columnas, las columnas son las siguientes:\n",
    "\n",
    "- fixed acidity: \n",
    "- citric acidity: \n",
    "- residual acidity: \n",
    "- residual sugar: \n",
    "- chlorides: \n",
    "- free sulfur dioxide: \n",
    "- total sulfur dioxide: \n",
    "- density: \n",
    "- pH: pH del vino\n",
    "- sulphates: \n",
    "- alcohol: grado alcohólico\n",
    "- quality: calidad del vino\n",
    "- tipo: Tipo de cepa"
   ]
  },
  {
   "cell_type": "markdown",
   "metadata": {},
   "source": [
    "## B) \n",
    "Aborde este problema como si fuera de clasificación con multiples clases para predecir el valor de calidad de un vino, es decir, utilice las distintas caracterı́sticas fisioquı́micas presentes en los datos para estimar la etiqueta ¿Cuántas clases son y cuántos ejemplos hay por clase? ¿Qué sucede con predecir si un vino tiene calidad mínima (0) o máxima(10)? Además para el propósito académico de esta actividad cree un conjunto de pruebas (20%) para evaluar la generalización final del modelo y otro de validación (20%) si estima conveniente."
   ]
  },
  {
   "cell_type": "code",
   "execution_count": 23,
   "metadata": {},
   "outputs": [
    {
     "data": {
      "text/html": [
       "<div>\n",
       "<style scoped>\n",
       "    .dataframe tbody tr th:only-of-type {\n",
       "        vertical-align: middle;\n",
       "    }\n",
       "\n",
       "    .dataframe tbody tr th {\n",
       "        vertical-align: top;\n",
       "    }\n",
       "\n",
       "    .dataframe thead th {\n",
       "        text-align: right;\n",
       "    }\n",
       "</style>\n",
       "<table border=\"1\" class=\"dataframe\">\n",
       "  <thead>\n",
       "    <tr style=\"text-align: right;\">\n",
       "      <th></th>\n",
       "      <th>fixed acidity</th>\n",
       "      <th>volatile acidity</th>\n",
       "      <th>citric acid</th>\n",
       "      <th>residual sugar</th>\n",
       "      <th>chlorides</th>\n",
       "      <th>free sulfur dioxide</th>\n",
       "      <th>total sulfur dioxide</th>\n",
       "      <th>density</th>\n",
       "      <th>pH</th>\n",
       "      <th>sulphates</th>\n",
       "      <th>alcohol</th>\n",
       "      <th>tipo</th>\n",
       "    </tr>\n",
       "    <tr>\n",
       "      <th>quality</th>\n",
       "      <th></th>\n",
       "      <th></th>\n",
       "      <th></th>\n",
       "      <th></th>\n",
       "      <th></th>\n",
       "      <th></th>\n",
       "      <th></th>\n",
       "      <th></th>\n",
       "      <th></th>\n",
       "      <th></th>\n",
       "      <th></th>\n",
       "      <th></th>\n",
       "    </tr>\n",
       "  </thead>\n",
       "  <tbody>\n",
       "    <tr>\n",
       "      <th>3</th>\n",
       "      <td>30</td>\n",
       "      <td>30</td>\n",
       "      <td>30</td>\n",
       "      <td>30</td>\n",
       "      <td>30</td>\n",
       "      <td>30</td>\n",
       "      <td>30</td>\n",
       "      <td>30</td>\n",
       "      <td>30</td>\n",
       "      <td>30</td>\n",
       "      <td>30</td>\n",
       "      <td>30</td>\n",
       "    </tr>\n",
       "    <tr>\n",
       "      <th>4</th>\n",
       "      <td>216</td>\n",
       "      <td>216</td>\n",
       "      <td>216</td>\n",
       "      <td>216</td>\n",
       "      <td>216</td>\n",
       "      <td>216</td>\n",
       "      <td>216</td>\n",
       "      <td>216</td>\n",
       "      <td>216</td>\n",
       "      <td>216</td>\n",
       "      <td>216</td>\n",
       "      <td>216</td>\n",
       "    </tr>\n",
       "    <tr>\n",
       "      <th>5</th>\n",
       "      <td>2138</td>\n",
       "      <td>2138</td>\n",
       "      <td>2138</td>\n",
       "      <td>2138</td>\n",
       "      <td>2138</td>\n",
       "      <td>2138</td>\n",
       "      <td>2138</td>\n",
       "      <td>2138</td>\n",
       "      <td>2138</td>\n",
       "      <td>2138</td>\n",
       "      <td>2138</td>\n",
       "      <td>2138</td>\n",
       "    </tr>\n",
       "    <tr>\n",
       "      <th>6</th>\n",
       "      <td>2836</td>\n",
       "      <td>2836</td>\n",
       "      <td>2836</td>\n",
       "      <td>2836</td>\n",
       "      <td>2836</td>\n",
       "      <td>2836</td>\n",
       "      <td>2836</td>\n",
       "      <td>2836</td>\n",
       "      <td>2836</td>\n",
       "      <td>2836</td>\n",
       "      <td>2836</td>\n",
       "      <td>2836</td>\n",
       "    </tr>\n",
       "    <tr>\n",
       "      <th>7</th>\n",
       "      <td>1079</td>\n",
       "      <td>1079</td>\n",
       "      <td>1079</td>\n",
       "      <td>1079</td>\n",
       "      <td>1079</td>\n",
       "      <td>1079</td>\n",
       "      <td>1079</td>\n",
       "      <td>1079</td>\n",
       "      <td>1079</td>\n",
       "      <td>1079</td>\n",
       "      <td>1079</td>\n",
       "      <td>1079</td>\n",
       "    </tr>\n",
       "    <tr>\n",
       "      <th>8</th>\n",
       "      <td>193</td>\n",
       "      <td>193</td>\n",
       "      <td>193</td>\n",
       "      <td>193</td>\n",
       "      <td>193</td>\n",
       "      <td>193</td>\n",
       "      <td>193</td>\n",
       "      <td>193</td>\n",
       "      <td>193</td>\n",
       "      <td>193</td>\n",
       "      <td>193</td>\n",
       "      <td>193</td>\n",
       "    </tr>\n",
       "    <tr>\n",
       "      <th>9</th>\n",
       "      <td>5</td>\n",
       "      <td>5</td>\n",
       "      <td>5</td>\n",
       "      <td>5</td>\n",
       "      <td>5</td>\n",
       "      <td>5</td>\n",
       "      <td>5</td>\n",
       "      <td>5</td>\n",
       "      <td>5</td>\n",
       "      <td>5</td>\n",
       "      <td>5</td>\n",
       "      <td>5</td>\n",
       "    </tr>\n",
       "  </tbody>\n",
       "</table>\n",
       "</div>"
      ],
      "text/plain": [
       "         fixed acidity  volatile acidity  citric acid  residual sugar  \\\n",
       "quality                                                                 \n",
       "3                   30                30           30              30   \n",
       "4                  216               216          216             216   \n",
       "5                 2138              2138         2138            2138   \n",
       "6                 2836              2836         2836            2836   \n",
       "7                 1079              1079         1079            1079   \n",
       "8                  193               193          193             193   \n",
       "9                    5                 5            5               5   \n",
       "\n",
       "         chlorides  free sulfur dioxide  total sulfur dioxide  density    pH  \\\n",
       "quality                                                                        \n",
       "3               30                   30                    30       30    30   \n",
       "4              216                  216                   216      216   216   \n",
       "5             2138                 2138                  2138     2138  2138   \n",
       "6             2836                 2836                  2836     2836  2836   \n",
       "7             1079                 1079                  1079     1079  1079   \n",
       "8              193                  193                   193      193   193   \n",
       "9                5                    5                     5        5     5   \n",
       "\n",
       "         sulphates  alcohol  tipo  \n",
       "quality                            \n",
       "3               30       30    30  \n",
       "4              216      216   216  \n",
       "5             2138     2138  2138  \n",
       "6             2836     2836  2836  \n",
       "7             1079     1079  1079  \n",
       "8              193      193   193  \n",
       "9                5        5     5  "
      ]
     },
     "execution_count": 23,
     "metadata": {},
     "output_type": "execute_result"
    }
   ],
   "source": [
    "clases = df.groupby([\"quality\"])\n",
    "clases.count()\n"
   ]
  },
  {
   "cell_type": "markdown",
   "metadata": {},
   "source": [
    "Hay en total 7 clases en el dataset, calidad 3 a la 9. Como el problema es de clasificación de multiples categorias, este problema solo asociará un input con una esas calidades. Hay 30 casos con calidad 3, 216 con calidad 4, 2138 con calidad 5, 2836 con calidad 6, 1079 con calidad 7, 193 con calidad 8 y 5 con calidad 9. Era de esperarse que la mayoria de los datos estuviesen en las categorias del \"medio\". Si se intenta predecir un vino de calidad 0 , este debería parar a la categoria de los vinos con calidad 3. Mientras que los vinos de calidad 10 , deberían pasar a los vinos de la calidad 9. En terminos simples, se categorizan."
   ]
  },
  {
   "cell_type": "code",
   "execution_count": 24,
   "metadata": {},
   "outputs": [
    {
     "name": "stdout",
     "output_type": "stream",
     "text": [
      "(3899, 12)\n",
      "(1299, 12)\n",
      "(1299, 12)\n"
     ]
    }
   ],
   "source": [
    "y = df[\"quality\"].values\n",
    "df1=df.drop(columns=[\"quality\"])\n",
    "split = int(len(df)*0.2) \n",
    "X_train = df1[split:-split]\n",
    "X_test  = df1[:split]\n",
    "X_val = df1[-split:]\n",
    "Y_train = y[split:-split]\n",
    "Y_test  = y[:split]\n",
    "Y_val = y[-split:]\n",
    "print(X_train.shape)\n",
    "print(X_test.shape)\n",
    "print(X_val.shape)\n"
   ]
  },
  {
   "cell_type": "markdown",
   "metadata": {},
   "source": [
    "## C) \n",
    "Entrene un solo Árbol de Clasificación de múltiples niveles para resolver el problema. Defina un Árbol no regularizado (como el que no tiene límites en su profundidad) y otro Árbol regularizado (variando los hiper-parámetros que prefiera, por ejemplo, los más comunes como la profundidad, el número mínimo de datos para realizar split o el número mínimo de datos en cada hoja), recuerde que las decisiones no pueden ser basadas mirando el conjunto de pruebas. Debido al desbalanceo que se produce en las clases mida la métrica F1-score [2] sobre el conjunto de entrenamiento y de pruebas."
   ]
  },
  {
   "cell_type": "code",
   "execution_count": 25,
   "metadata": {},
   "outputs": [
    {
     "name": "stdout",
     "output_type": "stream",
     "text": [
      "Train Accuracy:  1.0\n",
      "Test Accuracy:  0.4565050038491147\n",
      "Val Accuracy:  0.42725173210161665\n"
     ]
    }
   ],
   "source": [
    "#Modelo no regularizado\n",
    "model1 = Tree()\n",
    "#model1.set_params(criterion='gini',splitter='best')\n",
    "model1.fit(X_train,Y_train)\n",
    "print(\"Train Accuracy: \",model1.score(X_train,Y_train))\n",
    "print(\"Test Accuracy: \",model1.score(X_test,Y_test))\n",
    "print(\"Val Accuracy: \",model1.score(X_val,Y_val))"
   ]
  },
  {
   "cell_type": "code",
   "execution_count": 26,
   "metadata": {},
   "outputs": [
    {
     "name": "stdout",
     "output_type": "stream",
     "text": [
      "Altura:  1\n",
      "Train Accuracy:  0.4283149525519364\n",
      "Test Accuracy:  0.39414934565050036\n",
      "Val Accuracy:  0.5034642032332564\n",
      "Altura:  2\n",
      "Train Accuracy:  0.49166452936650423\n",
      "Test Accuracy:  0.5304080061585835\n",
      "Val Accuracy:  0.5719784449576597\n",
      "Altura:  3\n",
      "Train Accuracy:  0.5165427032572455\n",
      "Test Accuracy:  0.5327174749807544\n",
      "Val Accuracy:  0.5850654349499615\n",
      "Altura:  4\n",
      "Train Accuracy:  0.5298794562708387\n",
      "Test Accuracy:  0.552732871439569\n",
      "Val Accuracy:  0.588144726712856\n",
      "Altura:  5\n",
      "Train Accuracy:  0.5583482944344704\n",
      "Test Accuracy:  0.5373364126250962\n",
      "Val Accuracy:  0.5465742879137798\n",
      "Altura:  6\n",
      "Train Accuracy:  0.580918184149782\n",
      "Test Accuracy:  0.5142417244033872\n",
      "Val Accuracy:  0.5542725173210161\n",
      "Altura:  7\n",
      "Train Accuracy:  0.605539882021031\n",
      "Test Accuracy:  0.5119322555812164\n",
      "Val Accuracy:  0.5219399538106235\n",
      "Altura:  8\n",
      "Train Accuracy:  0.6404206206719671\n",
      "Test Accuracy:  0.5073133179368745\n",
      "Val Accuracy:  0.5057736720554272\n",
      "Altura:  9\n",
      "Train Accuracy:  0.674788407283919\n",
      "Test Accuracy:  0.4888375673595073\n",
      "Val Accuracy:  0.5034642032332564\n"
     ]
    }
   ],
   "source": [
    "#Modelo regularizado\n",
    "model2 = Tree()\n",
    "for i in range(1,10):\n",
    "    C=i\n",
    "    print(\"Altura: \",i)\n",
    "    model2.set_params(max_depth=C,criterion='gini',splitter='best')\n",
    "    model2.fit(X_train,Y_train)\n",
    "    print(\"Train Accuracy: \",model2.score(X_train,Y_train))\n",
    "    print(\"Test Accuracy: \",model2.score(X_test,Y_test))\n",
    "    print(\"Val Accuracy: \",model2.score(X_val,Y_val))"
   ]
  },
  {
   "cell_type": "markdown",
   "metadata": {},
   "source": [
    "La mejor altura encontrada fue 4, que tuvo un error de testing de 0.55 y error de training de 0.53."
   ]
  },
  {
   "cell_type": "code",
   "execution_count": 27,
   "metadata": {},
   "outputs": [
    {
     "name": "stdout",
     "output_type": "stream",
     "text": [
      "f1_score del modelo no regularizado:  0.4565050038491147\n",
      "f1_score del modelo regularizado:  0.4888375673595073\n"
     ]
    }
   ],
   "source": [
    "from sklearn.metrics import f1_score\n",
    "print(\"f1_score del modelo no regularizado: \",f1_score(Y_test, model1.predict(X_test), average=\"micro\" ))\n",
    "print(\"f1_score del modelo regularizado: \",f1_score(Y_test, model2.predict(X_test), average=\"micro\"))"
   ]
  },
  {
   "cell_type": "markdown",
   "metadata": {},
   "source": [
    "## D)\n",
    "Entrene un ensamblado de árboles de múltiples niveles, mediante la técnica de Bagging, compare el Árbol no regularizado con el regularizado (seteando los hiper-parámetros en base a lo experimentado anteriormente en c)) ¿Qué debería suceder? ¿Se visualiza overfitting? Varíe la cantidad de árboles de decisión utilizados en el ensamblado (n estimators), realice un gráfico resumen del F1-score de entrenamiento y de pruebas en función de este hiper-parámetro."
   ]
  },
  {
   "cell_type": "markdown",
   "metadata": {},
   "source": [
    "Lo que se esperaria que pasara es que el modelo no regularizado provoque overfitting, ya que si bien bagging funciona bien en modelos no regularizados, este puede tener overfitting si se esta resolviendo un problema multi-label como este."
   ]
  },
  {
   "cell_type": "code",
   "execution_count": 28,
   "metadata": {},
   "outputs": [
    {
     "data": {
      "text/plain": [
       "[<matplotlib.lines.Line2D at 0x7f529e17c278>]"
      ]
     },
     "execution_count": 28,
     "metadata": {},
     "output_type": "execute_result"
    },
    {
     "data": {
      "image/png": "[encoded data removed]",
      "text/plain": [
       "<matplotlib.figure.Figure at 0x7f529e17c6a0>"
      ]
     },
     "metadata": {},
     "output_type": "display_data"
    }
   ],
   "source": [
    "#No Regularizado\n",
    "from sklearn.ensemble import BaggingClassifier\n",
    "estimador_nr=[]\n",
    "f1_nr=[]\n",
    "f2_nr=[]\n",
    "\n",
    "for i in range(1,101):\n",
    "    estimador_nr.append(i)\n",
    "    model3 = BaggingClassifier(base_estimator=Tree(), n_estimators=i, n_jobs=-1)\n",
    "    model3.fit(X_train,Y_train)\n",
    "    y_pred_1 = model3.predict(X_test)\n",
    "    y_pred_2 = model3.predict(X_train)\n",
    "    f1_nr.append(f1_score(Y_test, y_pred_1, average=\"micro\") )\n",
    "    f2_nr.append(f1_score(Y_train, y_pred_2, average=\"micro\") )\n",
    "\n",
    "plt.plot(estimador_nr,f1_nr)\n",
    "plt.plot(estimador_nr,f2_nr)\n"
   ]
  },
  {
   "cell_type": "markdown",
   "metadata": {},
   "source": [
    "Si bien el modelo no regularizado tiende a mejorar el score en testing(de 0.4 a 0.55 aproximadamente), hay una alta tendencia a overfitting, observado por el gráfico de training que sube rapidamente a 1."
   ]
  },
  {
   "cell_type": "code",
   "execution_count": 29,
   "metadata": {},
   "outputs": [
    {
     "data": {
      "text/plain": [
       "[<matplotlib.lines.Line2D at 0x7f529c12ca90>]"
      ]
     },
     "execution_count": 29,
     "metadata": {},
     "output_type": "execute_result"
    },
    {
     "data": {
      "image/png": "[encoded data removed]",
      "text/plain": [
       "<matplotlib.figure.Figure at 0x7f529e1deeb8>"
      ]
     },
     "metadata": {},
     "output_type": "display_data"
    }
   ],
   "source": [
    "#Regularizado\n",
    "from sklearn.ensemble import BaggingClassifier\n",
    "estimador_r=[]\n",
    "f1_r=[]\n",
    "f2_r=[]\n",
    "\n",
    "for i in range(1,101):\n",
    "    estimador_r.append(i)\n",
    "    model4 = BaggingClassifier(base_estimator=Tree(max_depth=4,criterion='gini',splitter='best'), n_estimators=i, n_jobs=-1)\n",
    "    model4.fit(X_train,Y_train)\n",
    "    y_pred_1 = model4.predict(X_test)\n",
    "    y_pred_2 = model4.predict(X_train)\n",
    "    f1_r.append(f1_score(Y_test, y_pred_1, average=\"micro\") )\n",
    "    f2_r.append(f1_score(Y_train, y_pred_2, average=\"micro\") )\n",
    "\n",
    "plt.plot(estimador_r,f1_r)\n",
    "plt.plot(estimador_r,f2_r)"
   ]
  },
  {
   "cell_type": "markdown",
   "metadata": {},
   "source": [
    "Si bien en testing el f score sube mas lentamente que en el no regularizado, este error no esta sujeto a overfitting en el entrenamiento, ya que en entrenamiento el f score sube hasta un valor de 0.57. Esto significa que el modelo fue mejor cuando se usó un árbol regularizado."
   ]
  },
  {
   "cell_type": "markdown",
   "metadata": {},
   "source": [
    "## E)\n",
    "Entrene un ensamblado de árboles de múltiples niveles, mediante la técnica de AdaBoost, compare el Árbol no regularizado con el regularizado (seteando los hiper-parámetros en base a lo experimentado anteriormente en c) ¿Se visualiza overfitting? ¿Qué técnica se utiliza, re-muestrear o pesar ejemplos? ¿Qué le parece más sensato?. Varíe la cantidad de árboles de decisión utilizados en el ensamblado (n estimators), realice un gráfico resumen del F1-score de entrenamiento y de pruebas en función de este hiper-parámetro. Compare y analice con la técnica utilizada en d)."
   ]
  },
  {
   "cell_type": "code",
   "execution_count": 30,
   "metadata": {},
   "outputs": [
    {
     "data": {
      "text/plain": [
       "[<matplotlib.lines.Line2D at 0x7f529c049da0>]"
      ]
     },
     "execution_count": 30,
     "metadata": {},
     "output_type": "execute_result"
    },
    {
     "data": {
      "image/png": "[encoded data removed]",
      "text/plain": [
       "<matplotlib.figure.Figure at 0x7f529e279320>"
      ]
     },
     "metadata": {},
     "output_type": "display_data"
    }
   ],
   "source": [
    "from sklearn.ensemble import AdaBoostClassifier\n",
    "estimador_r=[]\n",
    "f1_r=[]\n",
    "f2_r=[]\n",
    "\n",
    "for i in range(1,101):\n",
    "    estimador_r.append(i)\n",
    "    model5 = AdaBoostClassifier(base_estimator=Tree(), n_estimators=i)\n",
    "    model5.fit(X_train,Y_train)\n",
    "    y_pred_1 = model5.predict(X_test)\n",
    "    y_pred_2 = model5.predict(X_train)\n",
    "    f1_r.append(f1_score(Y_test, y_pred_1, average=\"micro\") )\n",
    "    f2_r.append(f1_score(Y_train, y_pred_2, average=\"micro\") )\n",
    "\n",
    "plt.plot(estimador_r,f1_r)\n",
    "plt.plot(estimador_r,f2_r)"
   ]
  },
  {
   "cell_type": "markdown",
   "metadata": {},
   "source": [
    "Claramente hay un overfitting, ya que el fscore se mantuvo como 1 para todo estimador en el conjunto de entrenamiento, además tampoco es bueno el resultado erratico(que pareciera tender a un mismo valor) que se presentó en testing. Comparando con lo realizado en el item D), ambos casos en el modelo no regularizado provocaron overfitting, pero en este caso es mas severo que en D)."
   ]
  },
  {
   "cell_type": "code",
   "execution_count": 31,
   "metadata": {},
   "outputs": [
    {
     "data": {
      "text/plain": [
       "[<matplotlib.lines.Line2D at 0x7f529e0ff400>]"
      ]
     },
     "execution_count": 31,
     "metadata": {},
     "output_type": "execute_result"
    },
    {
     "data": {
      "image/png": "[encoded data removed]",
      "text/plain": [
       "<matplotlib.figure.Figure at 0x7f529da39d68>"
      ]
     },
     "metadata": {},
     "output_type": "display_data"
    }
   ],
   "source": [
    "from sklearn.ensemble import AdaBoostClassifier\n",
    "estimador_r=[]\n",
    "f1_r=[]\n",
    "f2_r=[]\n",
    "\n",
    "for i in range(1,101):\n",
    "    estimador_r.append(i)\n",
    "    model5 = AdaBoostClassifier(base_estimator=Tree(max_depth=4,criterion='gini',splitter='best'), n_estimators=i)\n",
    "    model5.fit(X_train,Y_train)\n",
    "    y_pred_1 = model5.predict(X_test)\n",
    "    y_pred_2 = model5.predict(X_train)\n",
    "    f1_r.append(f1_score(Y_test, y_pred_1, average=\"micro\") )\n",
    "    f2_r.append(f1_score(Y_train, y_pred_2, average=\"micro\") )\n",
    "\n",
    "plt.plot(estimador_r,f1_r)\n",
    "plt.plot(estimador_r,f2_r)"
   ]
  },
  {
   "cell_type": "markdown",
   "metadata": {},
   "source": [
    "Si bien el comportamiento es extraño(bajar y volver a subir), el modelo regularizado maneja mejor el overfitting, siendo los gráficos de training y test muy parecidos en términos de forma. En cuanto a valores se vuelve a repetir el mismo caso que en D, variando el fscore de testing muy poco en comparación al de training. La gran diferencia entre ambos es a forma de la curva de como se llega al fscore."
   ]
  },
  {
   "cell_type": "markdown",
   "metadata": {},
   "source": [
    "## F\n",
    "Pruebe otra técnica de ensamblado dedicada a árboles de decisión, que combina el muestreo boostrap de Bagging con muestreo sobre las features: Random Forest, compare el Árbol no regularizado con el regularizado ¿Se visualiza overfitting?. Varíe la cantidad de árboles de decisión utilizados en el ensamblado (n estimators), realice un gráfico resumen el F1-score de entrenamiento y de pruebas en función de este hiper-parámetro."
   ]
  },
  {
   "cell_type": "code",
   "execution_count": 32,
   "metadata": {},
   "outputs": [
    {
     "data": {
      "text/plain": [
       "[<matplotlib.lines.Line2D at 0x7f529e06f128>]"
      ]
     },
     "execution_count": 32,
     "metadata": {},
     "output_type": "execute_result"
    },
    {
     "data": {
      "image/png": "[encoded data removed]",
      "text/plain": [
       "<matplotlib.figure.Figure at 0x7f529e2795c0>"
      ]
     },
     "metadata": {},
     "output_type": "display_data"
    }
   ],
   "source": [
    "from sklearn.ensemble import RandomForestClassifier\n",
    "estimador_r=[]\n",
    "f1_r=[]\n",
    "f2_r=[]\n",
    "\n",
    "for i in range(1,101):\n",
    "    estimador_r.append(i)\n",
    "    model5 = RandomForestClassifier(n_estimators=i,n_jobs=-1)\n",
    "    model5.fit(X_train,Y_train)\n",
    "    y_pred_1 = model5.predict(X_test)\n",
    "    y_pred_2 = model5.predict(X_train)\n",
    "    f1_r.append(f1_score(Y_test, y_pred_1, average=\"micro\") )\n",
    "    f2_r.append(f1_score(Y_train, y_pred_2, average=\"micro\") )\n",
    "\n",
    "plt.plot(estimador_r,f1_r)\n",
    "plt.plot(estimador_r,f2_r)"
   ]
  },
  {
   "cell_type": "markdown",
   "metadata": {},
   "source": [
    "Para este caso se visualiza overfitting, ya que si bien los datos de test tienden a subir, los de training suben inmediatamente a 1, esto signfica que hubo un overfitting presente en el problema."
   ]
  },
  {
   "cell_type": "code",
   "execution_count": 33,
   "metadata": {},
   "outputs": [
    {
     "data": {
      "text/plain": [
       "[<matplotlib.lines.Line2D at 0x7f529e0586d8>]"
      ]
     },
     "execution_count": 33,
     "metadata": {},
     "output_type": "execute_result"
    },
    {
     "data": {
      "image/png": "[encoded data removed]",
      "text/plain": [
       "<matplotlib.figure.Figure at 0x7f529dfdd2b0>"
      ]
     },
     "metadata": {},
     "output_type": "display_data"
    }
   ],
   "source": [
    "from sklearn.ensemble import RandomForestClassifier\n",
    "estimador_r=[]\n",
    "f1_r=[]\n",
    "f2_r=[]\n",
    "\n",
    "for i in range(1,101):\n",
    "    estimador_r.append(i)\n",
    "    model5 = RandomForestClassifier(n_estimators=i, max_depth=4,criterion='gini',n_jobs=-1)\n",
    "    model5.fit(X_train,Y_train)\n",
    "    y_pred_1 = model5.predict(X_test)\n",
    "    y_pred_2 = model5.predict(X_train)\n",
    "    f1_r.append(f1_score(Y_test, y_pred_1, average=\"micro\") )\n",
    "    f2_r.append(f1_score(Y_train, y_pred_2, average=\"micro\") )\n",
    "\n",
    "plt.plot(estimador_r,f1_r)\n",
    "plt.plot(estimador_r,f2_r)"
   ]
  },
  {
   "cell_type": "markdown",
   "metadata": {},
   "source": [
    "No se visuliza overfitting, de hecho, la forma de los dos gráficos es muy parecida. El fscore en el caso de training sube rapidamente a su mejor valor (0.57 aproximadamente) y oscila por ahí. En el caso de test, el fscore baja a 0.49 y luego sube hasta 0.55 aproximadamente, esto significa que el crecimiento fue casi el mismo que en el de training."
   ]
  },
  {
   "cell_type": "markdown",
   "metadata": {},
   "source": [
    "## G\n",
    "Verifique que el OOB error (out of bag error) de los ensambladores que utilizan la técnica boostrap puede ser una alternativa como métrica de generalización, compárelo con el error calculado sobre el conjunto de pruebas y validación (o en su defecto cross validation)."
   ]
  },
  {
   "cell_type": "code",
   "execution_count": 34,
   "metadata": {},
   "outputs": [
    {
     "name": "stdout",
     "output_type": "stream",
     "text": [
      "OOB error:  1\n",
      "Val error:  0.42263279445727486\n",
      "Test error:  0.45419553502694376\n"
     ]
    }
   ],
   "source": [
    "oob_error = 1 - model5.oob_score\n",
    "test_error = 1- model5.score(X_test,Y_test)\n",
    "val_error = 1- model5.score(X_val,Y_val)\n",
    "print(\"OOB error: \",oob_error)\n",
    "print (\"Val error: \",val_error)\n",
    "print(\"Test error: \",test_error)"
   ]
  },
  {
   "cell_type": "markdown",
   "metadata": {},
   "source": [
    "## H\n",
    "Entrene alguna otra máquina de aprendizaje, elegida por usted de entre todas las vistas en el curso, para resolver el problema. Elija los hiper-parámetros que estime convenientes intentando aumentar el F1-score obtenido por los algoritmos anteriores ¿Se logra una mejora? ¿Por qué?"
   ]
  },
  {
   "cell_type": "code",
   "execution_count": 35,
   "metadata": {},
   "outputs": [
    {
     "name": "stdout",
     "output_type": "stream",
     "text": [
      "f1_score de testing del modelo :  0.42802155504234024\n",
      "f1_score de training del modelo :  0.7040266735060272\n"
     ]
    }
   ],
   "source": [
    "model= SVM()\n",
    "C = 10**-0.3\n",
    "model.set_params(C=C,kernel='rbf')\n",
    "model.fit(X_train,Y_train)\n",
    "print(\"f1_score de testing del modelo : \",f1_score(Y_test, model.predict(X_test), average=\"micro\"))\n",
    "print(\"f1_score de training del modelo : \",f1_score(Y_train, model.predict(X_train), average=\"micro\"))"
   ]
  },
  {
   "cell_type": "markdown",
   "metadata": {},
   "source": [
    "El modelo realizado no mejora mucho con respecto a los otros modelos, la única gran mejora es prevenir overfitting, pero solo en parte, ya que esto se logro variando el hiperparámetro. El porque no se logro una mejora puede deberse a dos razones, la primera es que como se esta trabajando con un solo modelo, puede que no sea tan bueno como trabajar muchas veces un árbol. La otra razón se puede deber a que el modelo tiene un cierto peak(en los modelos anteriores, cercano a 0.6 en testing), por lo que quizas es dificil mejorar mas alla de eso con un solo modelo. "
   ]
  },
  {
   "cell_type": "markdown",
   "metadata": {},
   "source": [
    "## I\n",
    "Compare y analice las distintas maneras con las que se resolvió el problema definido en b), por ejemplo incluya las decisiones que conlleva y los resultados que reflejan."
   ]
  },
  {
   "cell_type": "markdown",
   "metadata": {},
   "source": [
    "En general, todas las técnicas(bagging, adaBoosting y randomForest) tuvieron overfitting en el caso del árbol no regularizado, esto se debe a que cuando se trabaja con un modelo de multiclase, los modelos no regularizados tienden a tener mas overfitting. Todos los análisis presentes se haran en torno al árbol regularizado.\n",
    "\n",
    "En el primer caso, bagging, el gráfico de entrenamiento tuvo una subida en su fscore, sin embargo, el conjunto de test no tuvo una subida tan buena, debido a que del fscore inicial, solo se varió en aproximadamente en 0.025, en comparación al entrenamiento que varió en 0.6\n",
    "\n",
    "En el segundo caso, adaBoosting, la forma de los gráficos de test y training son extraños, empiezan de un valor posiblemente máximo, bajan a un mínimo y luego de ahí suben hasta cierto valor. En training, se subió hasta 0.450 y en training hasta 5.5, como referencia, bagging obtuvo en training 0.58 y en test 0.525\n",
    "\n",
    "En el tercer caso, random forest, la forma de los gráficos es un poco mejor. Se llego a un fscore de 0.54 aproximadamente en test y a 0.56 en training, las mejores valoraciones obtenidas.\n",
    "\n",
    "El hecho de que un algoritmo como rando forest haya obtenido mejor puntuación que adaboosting puede darse bajo el supuesto de que la varianza del problema es alta y hay que bajarla, algo en que se especializan algoritmos de bagging y randomForest."
   ]
  },
  {
   "cell_type": "markdown",
   "metadata": {},
   "source": [
    "## J\n",
    "Defina otra forma de combinar los valores que entregan los ensamblados al hacer predicciones y compare con lo que se hace actualmente, por ejemplo Bagging realiza el voto de la mayoría para clasificación y promedio para regresión, AdaBoost realiza una combinación ponderada de cada clasificador dependiendo de su habilidad (desempeño para clasificar el conjunto de entrenamiento)."
   ]
  },
  {
   "cell_type": "code",
   "execution_count": 36,
   "metadata": {},
   "outputs": [
    {
     "name": "stdout",
     "output_type": "stream",
     "text": [
      "1299\n",
      "100\n"
     ]
    },
    {
     "ename": "ValueError",
     "evalue": "Classification metrics can't handle a mix of multiclass and continuous targets",
     "output_type": "error",
     "traceback": [
      "\u001b[0;31m---------------------------------------------------------------------------\u001b[0m",
      "\u001b[0;31mValueError\u001b[0m                                Traceback (most recent call last)",
      "\u001b[0;32m<ipython-input-36-3330657348c5>\u001b[0m in \u001b[0;36m<module>\u001b[0;34m()\u001b[0m\n\u001b[1;32m     12\u001b[0m \u001b[0mlist_predictions\u001b[0m \u001b[0;34m=\u001b[0m \u001b[0;34m[\u001b[0m\u001b[0mestimator\u001b[0m\u001b[0;34m.\u001b[0m\u001b[0mpredict\u001b[0m\u001b[0;34m(\u001b[0m\u001b[0mX_test\u001b[0m\u001b[0;34m)\u001b[0m \u001b[0;32mfor\u001b[0m \u001b[0mestimator\u001b[0m \u001b[0;32min\u001b[0m \u001b[0mlist_estimators\u001b[0m\u001b[0;34m]\u001b[0m\u001b[0;34m\u001b[0m\u001b[0m\n\u001b[1;32m     13\u001b[0m \u001b[0mnew_predictions\u001b[0m \u001b[0;34m=\u001b[0m \u001b[0mcombine_predictions\u001b[0m\u001b[0;34m(\u001b[0m\u001b[0mlist_predictions\u001b[0m\u001b[0;34m)\u001b[0m\u001b[0;34m\u001b[0m\u001b[0m\n\u001b[0;32m---> 14\u001b[0;31m \u001b[0mf1_score\u001b[0m\u001b[0;34m(\u001b[0m\u001b[0mY_test\u001b[0m\u001b[0;34m,\u001b[0m \u001b[0mnew_predictions\u001b[0m\u001b[0;34m,\u001b[0m \u001b[0maverage\u001b[0m\u001b[0;34m=\u001b[0m\u001b[0;34m\"micro\"\u001b[0m \u001b[0;34m)\u001b[0m\u001b[0;34m\u001b[0m\u001b[0m\n\u001b[0m",
      "\u001b[0;32m~/anaconda3/lib/python3.6/site-packages/sklearn/metrics/classification.py\u001b[0m in \u001b[0;36mf1_score\u001b[0;34m(y_true, y_pred, labels, pos_label, average, sample_weight)\u001b[0m\n\u001b[1;32m    712\u001b[0m     return fbeta_score(y_true, y_pred, 1, labels=labels,\n\u001b[1;32m    713\u001b[0m                        \u001b[0mpos_label\u001b[0m\u001b[0;34m=\u001b[0m\u001b[0mpos_label\u001b[0m\u001b[0;34m,\u001b[0m \u001b[0maverage\u001b[0m\u001b[0;34m=\u001b[0m\u001b[0maverage\u001b[0m\u001b[0;34m,\u001b[0m\u001b[0;34m\u001b[0m\u001b[0m\n\u001b[0;32m--> 714\u001b[0;31m                        sample_weight=sample_weight)\n\u001b[0m\u001b[1;32m    715\u001b[0m \u001b[0;34m\u001b[0m\u001b[0m\n\u001b[1;32m    716\u001b[0m \u001b[0;34m\u001b[0m\u001b[0m\n",
      "\u001b[0;32m~/anaconda3/lib/python3.6/site-packages/sklearn/metrics/classification.py\u001b[0m in \u001b[0;36mfbeta_score\u001b[0;34m(y_true, y_pred, beta, labels, pos_label, average, sample_weight)\u001b[0m\n\u001b[1;32m    826\u001b[0m                                                  \u001b[0maverage\u001b[0m\u001b[0;34m=\u001b[0m\u001b[0maverage\u001b[0m\u001b[0;34m,\u001b[0m\u001b[0;34m\u001b[0m\u001b[0m\n\u001b[1;32m    827\u001b[0m                                                  \u001b[0mwarn_for\u001b[0m\u001b[0;34m=\u001b[0m\u001b[0;34m(\u001b[0m\u001b[0;34m'f-score'\u001b[0m\u001b[0;34m,\u001b[0m\u001b[0;34m)\u001b[0m\u001b[0;34m,\u001b[0m\u001b[0;34m\u001b[0m\u001b[0m\n\u001b[0;32m--> 828\u001b[0;31m                                                  sample_weight=sample_weight)\n\u001b[0m\u001b[1;32m    829\u001b[0m     \u001b[0;32mreturn\u001b[0m \u001b[0mf\u001b[0m\u001b[0;34m\u001b[0m\u001b[0m\n\u001b[1;32m    830\u001b[0m \u001b[0;34m\u001b[0m\u001b[0m\n",
      "\u001b[0;32m~/anaconda3/lib/python3.6/site-packages/sklearn/metrics/classification.py\u001b[0m in \u001b[0;36mprecision_recall_fscore_support\u001b[0;34m(y_true, y_pred, beta, labels, pos_label, average, warn_for, sample_weight)\u001b[0m\n\u001b[1;32m   1023\u001b[0m         \u001b[0;32mraise\u001b[0m \u001b[0mValueError\u001b[0m\u001b[0;34m(\u001b[0m\u001b[0;34m\"beta should be >0 in the F-beta score\"\u001b[0m\u001b[0;34m)\u001b[0m\u001b[0;34m\u001b[0m\u001b[0m\n\u001b[1;32m   1024\u001b[0m \u001b[0;34m\u001b[0m\u001b[0m\n\u001b[0;32m-> 1025\u001b[0;31m     \u001b[0my_type\u001b[0m\u001b[0;34m,\u001b[0m \u001b[0my_true\u001b[0m\u001b[0;34m,\u001b[0m \u001b[0my_pred\u001b[0m \u001b[0;34m=\u001b[0m \u001b[0m_check_targets\u001b[0m\u001b[0;34m(\u001b[0m\u001b[0my_true\u001b[0m\u001b[0;34m,\u001b[0m \u001b[0my_pred\u001b[0m\u001b[0;34m)\u001b[0m\u001b[0;34m\u001b[0m\u001b[0m\n\u001b[0m\u001b[1;32m   1026\u001b[0m     \u001b[0mpresent_labels\u001b[0m \u001b[0;34m=\u001b[0m \u001b[0munique_labels\u001b[0m\u001b[0;34m(\u001b[0m\u001b[0my_true\u001b[0m\u001b[0;34m,\u001b[0m \u001b[0my_pred\u001b[0m\u001b[0;34m)\u001b[0m\u001b[0;34m\u001b[0m\u001b[0m\n\u001b[1;32m   1027\u001b[0m \u001b[0;34m\u001b[0m\u001b[0m\n",
      "\u001b[0;32m~/anaconda3/lib/python3.6/site-packages/sklearn/metrics/classification.py\u001b[0m in \u001b[0;36m_check_targets\u001b[0;34m(y_true, y_pred)\u001b[0m\n\u001b[1;32m     79\u001b[0m     \u001b[0;32mif\u001b[0m \u001b[0mlen\u001b[0m\u001b[0;34m(\u001b[0m\u001b[0my_type\u001b[0m\u001b[0;34m)\u001b[0m \u001b[0;34m>\u001b[0m \u001b[0;36m1\u001b[0m\u001b[0;34m:\u001b[0m\u001b[0;34m\u001b[0m\u001b[0m\n\u001b[1;32m     80\u001b[0m         raise ValueError(\"Classification metrics can't handle a mix of {0} \"\n\u001b[0;32m---> 81\u001b[0;31m                          \"and {1} targets\".format(type_true, type_pred))\n\u001b[0m\u001b[1;32m     82\u001b[0m \u001b[0;34m\u001b[0m\u001b[0m\n\u001b[1;32m     83\u001b[0m     \u001b[0;31m# We can't have more than one value on y_type => The set is no more needed\u001b[0m\u001b[0;34m\u001b[0m\u001b[0;34m\u001b[0m\u001b[0m\n",
      "\u001b[0;31mValueError\u001b[0m: Classification metrics can't handle a mix of multiclass and continuous targets"
     ]
    }
   ],
   "source": [
    "def combine_predictions(predictions):\n",
    "    print(len(predictions[0]))\n",
    "    print(len(predictions))\n",
    "    lamda=[]\n",
    "    lista=[]\n",
    "    for j in range(len (predictions[0])):\n",
    "        for i in range(len(predictions)): \n",
    "            lamda.append(predictions[i][j])\n",
    "        lista.append(np.std(lamda))\n",
    "    return lista\n",
    "list_estimators = model5.estimators_\n",
    "list_predictions = [estimator.predict(X_test) for estimator in list_estimators]\n",
    "new_predictions = combine_predictions(list_predictions)\n",
    "f1_score(Y_test, new_predictions, average=\"micro\" )"
   ]
  },
  {
   "cell_type": "markdown",
   "metadata": {},
   "source": [
    "## K\n",
    "Utilice la técnica de ensamblado para seleccionar características, para ésto defina un criterio para estimar la importancia de los distintos atributos en el ensamblado, impleméntelo sobre alguno de los ensambladores entrenados para resolver el problema definido en b). Realice un ranking de importancia de atributos y seleccione las  k  características más relevantes."
   ]
  },
  {
   "cell_type": "code",
   "execution_count": 37,
   "metadata": {},
   "outputs": [
    {
     "name": "stdout",
     "output_type": "stream",
     "text": [
      "1 : alcohol , 0.30953661443574354\n",
      "2 : density , 0.1861317030572174\n",
      "3 : volatile acidity , 0.13054208200261502\n",
      "4 : chlorides , 0.09963959760634228\n",
      "5 : residual sugar , 0.059273520022657566\n",
      "6 : free sulfur dioxide , 0.059236384837442875\n",
      "7 : citric acid , 0.040991851316555084\n",
      "8 : total sulfur dioxide , 0.032716273774540124\n",
      "9 : sulphates , 0.03176419127620261\n",
      "10 : pH , 0.02882006058891438\n",
      "11 : fixed acidity , 0.01718076961415718\n",
      "12 : type , 0.004166951467611966\n"
     ]
    }
   ],
   "source": [
    "from sklearn.ensemble import RandomForestClassifier\n",
    "from sklearn.feature_selection import SelectFromModel\n",
    "from sklearn.metrics import accuracy_score\n",
    "feat_labels = [\"fixed acidity\",\"volatile acidity\",\"citric acid\",\"residual sugar\",\"chlorides\",\"free sulfur dioxide\"\n",
    "               ,\"total sulfur dioxide\",\"density\",\"pH\",\"sulphates\",\"alcohol\",\"type\"]\n",
    "model6 = RandomForestClassifier(n_estimators=59, max_depth=4,criterion='gini',n_jobs=-1)\n",
    "model6.fit(X_train,Y_train)\n",
    "ranking=[]\n",
    "for feature in zip(feat_labels, model6.feature_importances_):\n",
    "    ranking.append(feature);\n",
    "ranking.sort(key=lambda x: x[1],reverse=True)\n",
    "a=1\n",
    "for i in ranking:\n",
    "    print(a,\":\", ranking[a-1][0],\",\",ranking[a-1][1]) \n",
    "    a+=1"
   ]
  },
  {
   "cell_type": "code",
   "execution_count": 38,
   "metadata": {},
   "outputs": [
    {
     "name": "stdout",
     "output_type": "stream",
     "text": [
      "volatile acidity\n",
      "chlorides\n",
      "free sulfur dioxide\n",
      "density\n",
      "alcohol\n"
     ]
    }
   ],
   "source": [
    "sfm = SelectFromModel(model6, threshold=0.05)\n",
    "\n",
    "# Train the selector\n",
    "sfm.fit(X_train, Y_train)\n",
    "for feature_list_index in sfm.get_support(indices=True):\n",
    "    print(feat_labels[feature_list_index])"
   ]
  },
  {
   "cell_type": "markdown",
   "metadata": {},
   "source": [
    "## L\n",
    "Entrene la máquina de aprendizaje definida en h) sobre las  k  carecterísticas derivadas del punto anterior ¿Mejora los resultados sobre ésta máquina de aprendizaje?"
   ]
  },
  {
   "cell_type": "code",
   "execution_count": 39,
   "metadata": {},
   "outputs": [
    {
     "name": "stdout",
     "output_type": "stream",
     "text": [
      "f1_score de testing del modelo :  0.5011547344110855\n",
      "f1_score de training del modelo :  0.5465503975378302\n"
     ]
    }
   ],
   "source": [
    "X_important_train = sfm.transform(X_train)\n",
    "X_important_test = sfm.transform(X_test)\n",
    "model= SVM()\n",
    "C = 10**0.3\n",
    "model.set_params(C=C,kernel='rbf')\n",
    "model.fit(X_important_train,Y_train)\n",
    "print(\"f1_score de testing del modelo : \",f1_score(Y_test, model.predict(X_important_test), average=\"micro\"))\n",
    "print(\"f1_score de training del modelo : \",f1_score(Y_train, model.predict(X_important_train), average=\"micro\"))"
   ]
  },
  {
   "cell_type": "markdown",
   "metadata": {},
   "source": [
    "La selección de atributos permitió mejorar los f1Score de training y de test. Comparados con los resultados del item H), el score de test aumentó en 9 aproximadamente, y si bien el score de training bajo, este muestra menos tendencia a un posible overfitting."
   ]
  },
  {
   "cell_type": "markdown",
   "metadata": {},
   "source": [
    "# 2 Redes Convolucionales sobre imágenes"
   ]
  },
  {
   "cell_type": "markdown",
   "metadata": {},
   "source": [
    "## A\n",
    "Construya funciones para leer los datos y cargarlos al momento de entrenar (durante cada epoch), para ésto utilice Image Data Generator de keras."
   ]
  },
  {
   "cell_type": "code",
   "execution_count": 40,
   "metadata": {},
   "outputs": [
    {
     "name": "stdout",
     "output_type": "stream",
     "text": [
      "Found 2400 images belonging to 3 classes.\n",
      "Found 600 images belonging to 3 classes.\n"
     ]
    }
   ],
   "source": [
    "from keras.preprocessing.image import ImageDataGenerator\n",
    "train_datagen = ImageDataGenerator(\n",
    "        rescale=1./255,\n",
    "        shear_range=0.2,\n",
    "        zoom_range=0.2,\n",
    "        horizontal_flip=True)\n",
    "test_datagen = ImageDataGenerator(rescale=1./255) #no transformation\n",
    "train_generator = train_datagen.flow_from_directory(\n",
    "        'food_data/train',\n",
    "        target_size=(150, 150),\n",
    "        color_mode='rgb',\n",
    "        batch_size=32)\n",
    "validation_generator = test_datagen.flow_from_directory(\n",
    "        'food_data/val',\n",
    "        target_size=(150, 150),\n",
    "        color_mode='rgb',\n",
    "        batch_size=32)"
   ]
  },
  {
   "cell_type": "markdown",
   "metadata": {},
   "source": [
    "## B\n",
    "Utilice la red tradicional (Feed Forward) entregada en el código para ser entrenada sobre los datos vectorizados, esto es que cada imagen queda representada como un vector gigante, y las 3 clases a las que se enfrenta. Evalúe el modelo con la métrica accuracy sobre el conjunto de validación."
   ]
  },
  {
   "cell_type": "code",
   "execution_count": 41,
   "metadata": {},
   "outputs": [
    {
     "name": "stdout",
     "output_type": "stream",
     "text": [
      "_________________________________________________________________\n",
      "Layer (type)                 Output Shape              Param #   \n",
      "=================================================================\n",
      "flatten_3 (Flatten)          (None, 67500)             0         \n",
      "_________________________________________________________________\n",
      "batch_normalization_2 (Batch (None, 67500)             270000    \n",
      "_________________________________________________________________\n",
      "dense_6 (Dense)              (None, 256)               17280256  \n",
      "_________________________________________________________________\n",
      "dropout_6 (Dropout)          (None, 256)               0         \n",
      "_________________________________________________________________\n",
      "dense_7 (Dense)              (None, 128)               32896     \n",
      "_________________________________________________________________\n",
      "dropout_7 (Dropout)          (None, 128)               0         \n",
      "_________________________________________________________________\n",
      "dense_8 (Dense)              (None, 3)                 387       \n",
      "=================================================================\n",
      "Total params: 17,583,539\n",
      "Trainable params: 17,448,539\n",
      "Non-trainable params: 135,000\n",
      "_________________________________________________________________\n",
      "Epoch 1/20\n",
      "75/75 [==============================] - 36s 476ms/step - loss: 9.2979 - acc: 0.4012 - val_loss: 9.5993 - val_acc: 0.3993\n",
      "Epoch 2/20\n",
      "75/75 [==============================] - 35s 472ms/step - loss: 8.9924 - acc: 0.4342 - val_loss: 9.0555 - val_acc: 0.4366\n",
      "Epoch 3/20\n",
      "75/75 [==============================] - 34s 453ms/step - loss: 8.5629 - acc: 0.4612 - val_loss: 8.6579 - val_acc: 0.4560\n",
      "Epoch 4/20\n",
      "75/75 [==============================] - 34s 451ms/step - loss: 8.5522 - acc: 0.4654 - val_loss: 9.8620 - val_acc: 0.3820\n",
      "Epoch 5/20\n",
      "75/75 [==============================] - 34s 456ms/step - loss: 8.7580 - acc: 0.4500 - val_loss: 8.4208 - val_acc: 0.4701\n",
      "Epoch 6/20\n",
      "75/75 [==============================] - 34s 452ms/step - loss: 8.6893 - acc: 0.4567 - val_loss: 8.2122 - val_acc: 0.4859\n",
      "Epoch 7/20\n",
      "75/75 [==============================] - 34s 456ms/step - loss: 8.2204 - acc: 0.4867 - val_loss: 8.3428 - val_acc: 0.4824\n",
      "Epoch 8/20\n",
      "75/75 [==============================] - 34s 451ms/step - loss: 8.4064 - acc: 0.4746 - val_loss: 8.4472 - val_acc: 0.4718\n",
      "Epoch 9/20\n",
      "75/75 [==============================] - 34s 454ms/step - loss: 8.2101 - acc: 0.4879 - val_loss: 8.7401 - val_acc: 0.4577\n",
      "Epoch 10/20\n",
      "75/75 [==============================] - 34s 457ms/step - loss: 8.5655 - acc: 0.4658 - val_loss: 8.9018 - val_acc: 0.4454\n",
      "Epoch 11/20\n",
      "75/75 [==============================] - 34s 457ms/step - loss: 8.3307 - acc: 0.4813 - val_loss: 8.3770 - val_acc: 0.4771\n",
      "Epoch 12/20\n",
      "75/75 [==============================] - 34s 459ms/step - loss: 8.7259 - acc: 0.4571 - val_loss: 9.2057 - val_acc: 0.4278\n",
      "Epoch 13/20\n",
      "75/75 [==============================] - 34s 455ms/step - loss: 8.8718 - acc: 0.4475 - val_loss: 8.8559 - val_acc: 0.4472\n",
      "Epoch 14/20\n",
      "75/75 [==============================] - 34s 458ms/step - loss: 8.3793 - acc: 0.4783 - val_loss: 8.7344 - val_acc: 0.4560\n",
      "Epoch 15/20\n",
      "75/75 [==============================] - 34s 457ms/step - loss: 8.5072 - acc: 0.4704 - val_loss: 8.8938 - val_acc: 0.4454\n",
      "Epoch 16/20\n",
      "75/75 [==============================] - 34s 459ms/step - loss: 8.4176 - acc: 0.4763 - val_loss: 8.2861 - val_acc: 0.4859\n",
      "Epoch 17/20\n",
      "75/75 [==============================] - 34s 456ms/step - loss: 8.4452 - acc: 0.4750 - val_loss: 8.4277 - val_acc: 0.4754\n",
      "Epoch 18/20\n",
      "75/75 [==============================] - 34s 457ms/step - loss: 8.5287 - acc: 0.4692 - val_loss: 8.3103 - val_acc: 0.4824\n",
      "Epoch 19/20\n",
      "75/75 [==============================] - 34s 457ms/step - loss: 8.3923 - acc: 0.4771 - val_loss: 8.4279 - val_acc: 0.4771\n",
      "Epoch 20/20\n",
      "75/75 [==============================] - 34s 459ms/step - loss: 8.3612 - acc: 0.4800 - val_loss: 8.3306 - val_acc: 0.4826\n",
      "Accuracy validation:  0.47833333333333333\n"
     ]
    }
   ],
   "source": [
    "from keras.models import Sequential\n",
    "from keras.layers import *\n",
    "model = Sequential()\n",
    "model.add(Flatten(input_shape=train_generator.image_shape)) #full dense\n",
    "model.add(BatchNormalization()) #to normalize the input..\n",
    "model.add(Dense(256,activation='relu'))\n",
    "model.add(Dropout(0.25))\n",
    "model.add(Dense(128,activation='relu')) #128\n",
    "model.add(Dropout(0.25))\n",
    "model.add(Dense(3,activation='softmax'))\n",
    "model.compile(loss='categorical_crossentropy', optimizer='rmsprop', metrics=['accuracy']) # Let's train the model using RMSprop\n",
    "model.summary()\n",
    "model.fit_generator(\n",
    "        train_generator,\n",
    "        steps_per_epoch=len(train_generator.classes)//train_generator.batch_size, #samples//batch_size\n",
    "        epochs=20,\n",
    "        validation_data=validation_generator,\n",
    "        validation_steps=len(validation_generator.classes)//validation_generator.batch_size)\n",
    "print(\"Accuracy validation: \",model.evaluate_generator(generator=validation_generator)[1])"
   ]
  },
  {
   "cell_type": "markdown",
   "metadata": {},
   "source": [
    "## C\n",
    "Utilice la red convolucional (CNN) entregada en el código para ser entrenada sobre los datos brutos, matrices RGB de píxeles, y las 3 clases a las que se enfrenta. Evalúe el modelo con la métrica accuracy sobre el conjunto de validación. Compare."
   ]
  },
  {
   "cell_type": "code",
   "execution_count": 42,
   "metadata": {},
   "outputs": [
    {
     "name": "stdout",
     "output_type": "stream",
     "text": [
      "_________________________________________________________________\n",
      "Layer (type)                 Output Shape              Param #   \n",
      "=================================================================\n",
      "conv2d_5 (Conv2D)            (None, 150, 150, 32)      896       \n",
      "_________________________________________________________________\n",
      "conv2d_6 (Conv2D)            (None, 148, 148, 32)      9248      \n",
      "_________________________________________________________________\n",
      "max_pooling2d_3 (MaxPooling2 (None, 74, 74, 32)        0         \n",
      "_________________________________________________________________\n",
      "dropout_8 (Dropout)          (None, 74, 74, 32)        0         \n",
      "_________________________________________________________________\n",
      "conv2d_7 (Conv2D)            (None, 74, 74, 64)        18496     \n",
      "_________________________________________________________________\n",
      "conv2d_8 (Conv2D)            (None, 72, 72, 64)        36928     \n",
      "_________________________________________________________________\n",
      "max_pooling2d_4 (MaxPooling2 (None, 36, 36, 64)        0         \n",
      "_________________________________________________________________\n",
      "dropout_9 (Dropout)          (None, 36, 36, 64)        0         \n",
      "_________________________________________________________________\n",
      "flatten_4 (Flatten)          (None, 82944)             0         \n",
      "_________________________________________________________________\n",
      "dense_9 (Dense)              (None, 128)               10616960  \n",
      "_________________________________________________________________\n",
      "dropout_10 (Dropout)         (None, 128)               0         \n",
      "_________________________________________________________________\n",
      "dense_10 (Dense)             (None, 3)                 387       \n",
      "=================================================================\n",
      "Total params: 10,682,915\n",
      "Trainable params: 10,682,915\n",
      "Non-trainable params: 0\n",
      "_________________________________________________________________\n",
      "Epoch 1/12\n",
      "75/75 [==============================] - 288s 4s/step - loss: 1.2308 - acc: 0.3604 - val_loss: 1.0571 - val_acc: 0.5538\n",
      "Epoch 2/12\n",
      "75/75 [==============================] - 286s 4s/step - loss: 1.0491 - acc: 0.4571 - val_loss: 1.0079 - val_acc: 0.4859\n",
      "Epoch 3/12\n",
      "75/75 [==============================] - 286s 4s/step - loss: 0.9950 - acc: 0.5229 - val_loss: 0.9599 - val_acc: 0.5405\n",
      "Epoch 4/12\n",
      "75/75 [==============================] - 306s 4s/step - loss: 0.9756 - acc: 0.5383 - val_loss: 0.9731 - val_acc: 0.5528\n",
      "Epoch 5/12\n",
      "75/75 [==============================] - 287s 4s/step - loss: 0.9337 - acc: 0.5729 - val_loss: 0.9117 - val_acc: 0.5775\n",
      "Epoch 6/12\n",
      "75/75 [==============================] - 286s 4s/step - loss: 0.9093 - acc: 0.5871 - val_loss: 0.8937 - val_acc: 0.5722\n",
      "Epoch 7/12\n",
      "75/75 [==============================] - 286s 4s/step - loss: 0.8875 - acc: 0.6063 - val_loss: 0.9050 - val_acc: 0.5704\n",
      "Epoch 8/12\n",
      "75/75 [==============================] - 286s 4s/step - loss: 0.8432 - acc: 0.6183 - val_loss: 0.7627 - val_acc: 0.6673\n",
      "Epoch 9/12\n",
      "75/75 [==============================] - 287s 4s/step - loss: 0.8280 - acc: 0.6371 - val_loss: 0.8048 - val_acc: 0.6585\n",
      "Epoch 10/12\n",
      "75/75 [==============================] - 286s 4s/step - loss: 0.7872 - acc: 0.6546 - val_loss: 1.0390 - val_acc: 0.5968\n",
      "Epoch 11/12\n",
      "75/75 [==============================] - 289s 4s/step - loss: 0.7865 - acc: 0.6558 - val_loss: 0.8532 - val_acc: 0.6373\n",
      "Epoch 12/12\n",
      "75/75 [==============================] - 287s 4s/step - loss: 0.7846 - acc: 0.6562 - val_loss: 0.6935 - val_acc: 0.6901\n"
     ]
    },
    {
     "data": {
      "text/plain": [
       "<keras.callbacks.History at 0x7f528821feb8>"
      ]
     },
     "execution_count": 42,
     "metadata": {},
     "output_type": "execute_result"
    }
   ],
   "source": [
    "model = Sequential()\n",
    "model.add(Conv2D(32, (3, 3), padding='same',input_shape=train_generator.image_shape,activation='relu'))\n",
    "model.add(Conv2D(32, (3, 3),activation='relu'))\n",
    "model.add(MaxPool2D(pool_size=(2, 2)))\n",
    "model.add(Dropout(0.25))\n",
    "model.add(Conv2D(64, (3, 3), padding='same',activation='relu'))\n",
    "model.add(Conv2D(64, (3, 3),activation='relu'))\n",
    "model.add(MaxPool2D(pool_size=(2, 2)))\n",
    "model.add(Dropout(0.25))\n",
    "model.add(Flatten())\n",
    "model.add(Dense(128,activation='relu'))\n",
    "model.add(Dropout(0.5)) \n",
    "model.add(Dense(len(train_generator.class_indices),activation='softmax'))\n",
    "model.compile(loss='categorical_crossentropy', optimizer='rmsprop', metrics=['accuracy']) # Let's train the model using RMSprop\n",
    "model.summary()\n",
    "model.fit_generator(\n",
    "        train_generator,\n",
    "        steps_per_epoch=len(train_generator.classes)//train_generator.batch_size, #samples//batch_size\n",
    "        epochs=12,\n",
    "        validation_data=validation_generator,\n",
    "        validation_steps=len(validation_generator.classes)//validation_generator.batch_size)"
   ]
  },
  {
   "cell_type": "markdown",
   "metadata": {},
   "source": [
    "## D\n",
    "Genere un conjunto datos con incorrecta etiquetación de manera manual y vea si el modelo convolucional se sigue comportando de la misma manera. Para esto tome 100 imágenes aleatorias de entrenamiento de la carpeta hot dog y 100 imágenes aleatorias de entrenamiento de la carpeta hamburger e intercambielas, sin manipular las imágenes de la carpeta pizza y con el conjunto de validación intacto. Genere las matrices de confusión en el conjunto de validación para visualizar cómo afectó al modelo la corrupción realizada a los datos."
   ]
  },
  {
   "cell_type": "code",
   "execution_count": 43,
   "metadata": {},
   "outputs": [],
   "source": [
    "from sklearn.metrics import confusion_matrix \n",
    "Y_pred = model.predict_generator(validation_generator,len(validation_generator.classes)//validation_generator.batch_size+1)\n",
    "y_pred = np.argmax(Y_pred, axis=1)\n",
    "confusion_matrix = confusion_matrix(validation_generator.classes, y_pred)"
   ]
  },
  {
   "cell_type": "code",
   "execution_count": 44,
   "metadata": {},
   "outputs": [
    {
     "data": {
      "text/plain": [
       "array([[68, 55, 77],\n",
       "       [83, 55, 62],\n",
       "       [67, 60, 73]])"
      ]
     },
     "execution_count": 44,
     "metadata": {},
     "output_type": "execute_result"
    }
   ],
   "source": [
    "confusion_matrix"
   ]
  },
  {
   "cell_type": "markdown",
   "metadata": {},
   "source": [
    "### <a id=\"refs\"></a>\n",
    "## Referencias\n",
    "[1] http://archive.ics.uci.edu/ml/datasets/Wine+Quality  \n",
    "[2] http://scikit-learn.org/stable/modules/generated/sklearn.metrics.f1_score.html  \n",
    "[3] http://deeplearning.net/software/theano/tutorial/conv_arithmetic.html, http://colah.github.io/posts/2014-07-Understanding-Convolutions/    \n",
    "[4] https://www.vision.ee.ethz.ch/datasets_extra/food-101/  \n",
    "[5] Box, G. E. P., Jenkins, G. M. and Reinsel, G. C. (1976), *Time Series Analysis, Forecasting and Control*. Third Edition. Holden-Day. Series G.  "
   ]
  },
  {
   "cell_type": "code",
   "execution_count": null,
   "metadata": {},
   "outputs": [],
   "source": []
  }
 ],
 "metadata": {
  "kernelspec": {
   "display_name": "Python 3",
   "language": "python",
   "name": "python3"
  },
  "language_info": {
   "codemirror_mode": {
    "name": "ipython",
    "version": 3
   },
   "file_extension": ".py",
   "mimetype": "text/x-python",
   "name": "python",
   "nbconvert_exporter": "python",
   "pygments_lexer": "ipython3",
   "version": "3.6.4"
  }
 },
 "nbformat": 4,
 "nbformat_minor": 2
}
